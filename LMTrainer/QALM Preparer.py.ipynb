{
 "cells": [
  {
   "cell_type": "code",
   "execution_count": 1,
   "id": "45570fce",
   "metadata": {},
   "outputs": [],
   "source": [
    "from datasets import load_dataset\n",
    "import random\n",
    "import torch"
   ]
  },
  {
   "cell_type": "code",
   "execution_count": 2,
   "id": "e2275613",
   "metadata": {},
   "outputs": [],
   "source": [
    "from tqdm.notebook import tqdm"
   ]
  },
  {
   "cell_type": "code",
   "execution_count": 3,
   "id": "ce7326a6",
   "metadata": {},
   "outputs": [],
   "source": [
    "q_a_train = {}\n",
    "q_a_test = {}"
   ]
  },
  {
   "cell_type": "code",
   "execution_count": 4,
   "id": "3bd5d46a",
   "metadata": {},
   "outputs": [],
   "source": [
    "# Squad v1"
   ]
  },
  {
   "cell_type": "code",
   "execution_count": 5,
   "id": "ca787b5b",
   "metadata": {},
   "outputs": [
    {
     "name": "stderr",
     "output_type": "stream",
     "text": [
      "Found cached dataset squad (/home/amanrai/.cache/huggingface/datasets/squad/plain_text/1.0.0/d6ec3ceb99ca480ce37cdd35555d6cb2511d223b9150cce08a837ef62ffea453)\n"
     ]
    },
    {
     "data": {
      "application/vnd.jupyter.widget-view+json": {
       "model_id": "77d39f9c6e2644dd8eb5e8c3aee65ee6",
       "version_major": 2,
       "version_minor": 0
      },
      "text/plain": [
       "  0%|          | 0/2 [00:00<?, ?it/s]"
      ]
     },
     "metadata": {},
     "output_type": "display_data"
    },
    {
     "name": "stdout",
     "output_type": "stream",
     "text": [
      "DatasetDict({\n",
      "    train: Dataset({\n",
      "        features: ['id', 'title', 'context', 'question', 'answers'],\n",
      "        num_rows: 87599\n",
      "    })\n",
      "    validation: Dataset({\n",
      "        features: ['id', 'title', 'context', 'question', 'answers'],\n",
      "        num_rows: 10570\n",
      "    })\n",
      "})\n"
     ]
    }
   ],
   "source": [
    "splits = [\"train\", \"validation\"]\n",
    "dicts = {\n",
    "    \"train\":q_a_train,\n",
    "    \"validation\":q_a_test\n",
    "}\n",
    "ds = load_dataset(\"squad\")\n",
    "print(ds)"
   ]
  },
  {
   "cell_type": "code",
   "execution_count": 6,
   "id": "a9613006",
   "metadata": {},
   "outputs": [
    {
     "data": {
      "application/vnd.jupyter.widget-view+json": {
       "model_id": "e031dc9396f94312a779c2f3172e8439",
       "version_major": 2,
       "version_minor": 0
      },
      "text/plain": [
       "  0%|          | 0/87599 [00:00<?, ?it/s]"
      ]
     },
     "metadata": {},
     "output_type": "display_data"
    },
    {
     "data": {
      "application/vnd.jupyter.widget-view+json": {
       "model_id": "0f9cd4d52c4b4ab189012484f7a5d7be",
       "version_major": 2,
       "version_minor": 0
      },
      "text/plain": [
       "  0%|          | 0/10570 [00:00<?, ?it/s]"
      ]
     },
     "metadata": {},
     "output_type": "display_data"
    }
   ],
   "source": [
    "for split in splits:\n",
    "    for row in tqdm(ds[split]):\n",
    "        q_a = dicts[split]\n",
    "        if (row[\"context\"] not in q_a):\n",
    "            q_a[row[\"context\"]] = {}\n",
    "            q_a[row[\"context\"]][\"questions\"] = []\n",
    "            q_a[row[\"context\"]][\"answers\"] = []\n",
    "            q_a[row[\"context\"]][\"style\"] = \"ClosedQA\"\n",
    "        q_a[row[\"context\"]][\"questions\"].append(row[\"question\"])\n",
    "        q_a[row[\"context\"]][\"answers\"].append(row[\"answers\"][\"text\"])"
   ]
  },
  {
   "cell_type": "code",
   "execution_count": 7,
   "id": "f7cd9554",
   "metadata": {},
   "outputs": [
    {
     "data": {
      "text/plain": [
       "['Super Bowl 50 was an American football game to determine the champion of the National Football League (NFL) for the 2015 season. The American Football Conference (AFC) champion Denver Broncos defeated the National Football Conference (NFC) champion Carolina Panthers 24–10 to earn their third Super Bowl title. The game was played on February 7, 2016, at Levi\\'s Stadium in the San Francisco Bay Area at Santa Clara, California. As this was the 50th Super Bowl, the league emphasized the \"golden anniversary\" with various gold-themed initiatives, as well as temporarily suspending the tradition of naming each Super Bowl game with Roman numerals (under which the game would have been known as \"Super Bowl L\"), so that the logo could prominently feature the Arabic numerals 50.',\n",
       " 'The Panthers finished the regular season with a 15–1 record, and quarterback Cam Newton was named the NFL Most Valuable Player (MVP). They defeated the Arizona Cardinals 49–15 in the NFC Championship Game and advanced to their second Super Bowl appearance since the franchise was founded in 1995. The Broncos finished the regular season with a 12–4 record, and denied the New England Patriots a chance to defend their title from Super Bowl XLIX by defeating them 20–18 in the AFC Championship Game. They joined the Patriots, Dallas Cowboys, and Pittsburgh Steelers as one of four teams that have made eight appearances in the Super Bowl.',\n",
       " \"The Broncos took an early lead in Super Bowl 50 and never trailed. Newton was limited by Denver's defense, which sacked him seven times and forced him into three turnovers, including a fumble which they recovered for a touchdown. Denver linebacker Von Miller was named Super Bowl MVP, recording five solo tackles, 2½ sacks, and two forced fumbles.\",\n",
       " 'CBS broadcast Super Bowl 50 in the U.S., and charged an average of $5 million for a 30-second commercial during the game. The Super Bowl 50 halftime show was headlined by the British rock group Coldplay with special guest performers Beyoncé and Bruno Mars, who headlined the Super Bowl XLVII and Super Bowl XLVIII halftime shows, respectively. It was the third-most watched U.S. broadcast ever.',\n",
       " 'In early 2012, NFL Commissioner Roger Goodell stated that the league planned to make the 50th Super Bowl \"spectacular\" and that it would be \"an important game for us as a league\".',\n",
       " \"The league eventually narrowed the bids to three sites: New Orleans' Mercedes-Benz Superdome, Miami's Sun Life Stadium, and the San Francisco Bay Area's Levi's Stadium.\",\n",
       " \"The league announced on October 16, 2012, that the two finalists were Sun Life Stadium and Levi's Stadium. The South Florida/Miami area has previously hosted the event 10 times (tied for most with New Orleans), with the most recent one being Super Bowl XLIV in 2010. The San Francisco Bay Area last hosted in 1985 (Super Bowl XIX), held at Stanford Stadium in Stanford, California, won by the home team 49ers. The Miami bid depended on whether the stadium underwent renovations. However, on May 3, 2013, the Florida legislature refused to approve the funding plan to pay for the renovations, dealing a significant blow to Miami's chances.\",\n",
       " \"On May 21, 2013, NFL owners at their spring meetings in Boston voted and awarded the game to Levi's Stadium. The $1.2 billion stadium opened in 2014. It is the first Super Bowl held in the San Francisco Bay Area since Super Bowl XIX in 1985, and the first in California since Super Bowl XXXVII took place in San Diego in 2003.\",\n",
       " 'For the third straight season, the number one seeds from both conferences met in the Super Bowl. The Carolina Panthers became one of only ten teams to have completed a regular season with only one loss, and one of only six teams to have acquired a 15–1 record, while the Denver Broncos became one of four teams to have made eight appearances in the Super Bowl. The Broncos made their second Super Bowl appearance in three years, having reached Super Bowl XLVIII, while the Panthers made their second Super Bowl appearance in franchise history, their other appearance being Super Bowl XXXVIII. Coincidentally, both teams were coached by John Fox in their last Super Bowl appearance prior to Super Bowl 50.',\n",
       " 'Despite waiving longtime running back DeAngelo Williams and losing top wide receiver Kelvin Benjamin to a torn ACL in the preseason, the Carolina Panthers had their best regular season in franchise history, becoming the seventh team to win at least 15 regular season games since the league expanded to a 16-game schedule in 1978. Carolina started the season 14–0, not only setting franchise records for the best start and the longest single-season winning streak, but also posting the best start to a season by an NFC team in NFL history, breaking the 13–0 record previously shared with the 2009 New Orleans Saints and the 2011 Green Bay Packers. With their NFC-best 15–1 regular season record, the Panthers clinched home-field advantage throughout the NFC playoffs for the first time in franchise history. Ten players were selected to the Pro Bowl (the most in franchise history) along with eight All-Pro selections.']"
      ]
     },
     "execution_count": 7,
     "metadata": {},
     "output_type": "execute_result"
    }
   ],
   "source": [
    "list(q_a.keys())[:10]"
   ]
  },
  {
   "cell_type": "code",
   "execution_count": 8,
   "id": "277d83eb",
   "metadata": {},
   "outputs": [
    {
     "name": "stderr",
     "output_type": "stream",
     "text": [
      "Found cached dataset squad_v2 (/home/amanrai/.cache/huggingface/datasets/squad_v2/squad_v2/2.0.0/09187c73c1b837c95d9a249cd97c2c3f1cebada06efe667b4427714b27639b1d)\n"
     ]
    },
    {
     "data": {
      "application/vnd.jupyter.widget-view+json": {
       "model_id": "7aab92ea4946425184c5a66167c44e29",
       "version_major": 2,
       "version_minor": 0
      },
      "text/plain": [
       "  0%|          | 0/2 [00:00<?, ?it/s]"
      ]
     },
     "metadata": {},
     "output_type": "display_data"
    }
   ],
   "source": [
    "ds = load_dataset(\"squad_v2\")"
   ]
  },
  {
   "cell_type": "code",
   "execution_count": 9,
   "id": "5f5bf165",
   "metadata": {},
   "outputs": [
    {
     "data": {
      "application/vnd.jupyter.widget-view+json": {
       "model_id": "d7c815d5907e472ba455850626ee1e8d",
       "version_major": 2,
       "version_minor": 0
      },
      "text/plain": [
       "  0%|          | 0/130319 [00:00<?, ?it/s]"
      ]
     },
     "metadata": {},
     "output_type": "display_data"
    },
    {
     "data": {
      "application/vnd.jupyter.widget-view+json": {
       "model_id": "9c6a6e3682ac421b911a6ccc472e60e6",
       "version_major": 2,
       "version_minor": 0
      },
      "text/plain": [
       "  0%|          | 0/11873 [00:00<?, ?it/s]"
      ]
     },
     "metadata": {},
     "output_type": "display_data"
    }
   ],
   "source": [
    "for split in splits:\n",
    "    for row in tqdm(ds[split]):\n",
    "        q_a = dicts[split]\n",
    "        if (row[\"context\"] not in q_a):\n",
    "            q_a[row[\"context\"]] = {}\n",
    "            q_a[row[\"context\"]][\"questions\"] = []\n",
    "            q_a[row[\"context\"]][\"answers\"] = []\n",
    "            q_a[row[\"context\"]][\"style\"] = \"ClosedQA\"\n",
    "        q_a[row[\"context\"]][\"questions\"].append(row[\"question\"])\n",
    "        q_a[row[\"context\"]][\"answers\"].append(row[\"answers\"][\"text\"])"
   ]
  },
  {
   "cell_type": "code",
   "execution_count": 10,
   "id": "7411cc2b",
   "metadata": {},
   "outputs": [
    {
     "data": {
      "application/vnd.jupyter.widget-view+json": {
       "model_id": "8e07f18e73904963ae78147ccc8414fe",
       "version_major": 2,
       "version_minor": 0
      },
      "text/plain": [
       "Downloading readme:   0%|          | 0.00/6.84k [00:00<?, ?B/s]"
      ]
     },
     "metadata": {},
     "output_type": "display_data"
    },
    {
     "name": "stderr",
     "output_type": "stream",
     "text": [
      "Found cached dataset sciq (/home/amanrai/.cache/huggingface/datasets/sciq/default/0.1.0/50e5c6e3795b55463819d399ec417bfd4c3c621105e00295ddb5f3633d708493)\n"
     ]
    },
    {
     "data": {
      "application/vnd.jupyter.widget-view+json": {
       "model_id": "638b616fcc7f44ef935069eb223127c6",
       "version_major": 2,
       "version_minor": 0
      },
      "text/plain": [
       "  0%|          | 0/3 [00:00<?, ?it/s]"
      ]
     },
     "metadata": {},
     "output_type": "display_data"
    }
   ],
   "source": [
    "ds = load_dataset(\"sciq\")"
   ]
  },
  {
   "cell_type": "code",
   "execution_count": 11,
   "id": "dfa13ac7",
   "metadata": {},
   "outputs": [
    {
     "data": {
      "application/vnd.jupyter.widget-view+json": {
       "model_id": "c70a57ec2220490e8fc4ffc126a0cffc",
       "version_major": 2,
       "version_minor": 0
      },
      "text/plain": [
       "  0%|          | 0/11679 [00:00<?, ?it/s]"
      ]
     },
     "metadata": {},
     "output_type": "display_data"
    },
    {
     "data": {
      "application/vnd.jupyter.widget-view+json": {
       "model_id": "d430c1f061424b17be16165de2d7e6e1",
       "version_major": 2,
       "version_minor": 0
      },
      "text/plain": [
       "  0%|          | 0/1000 [00:00<?, ?it/s]"
      ]
     },
     "metadata": {},
     "output_type": "display_data"
    }
   ],
   "source": [
    "for split in splits:\n",
    "    for row in tqdm(ds[split]):\n",
    "        q_a = dicts[split]\n",
    "        if (row[\"support\"] not in q_a):\n",
    "            q_a[row[\"support\"]] = {}\n",
    "            q_a[row[\"support\"]][\"questions\"] = []\n",
    "            q_a[row[\"support\"]][\"answers\"] = []\n",
    "            q_a[row[\"support\"]][\"style\"] = \"ClosedQA\"\n",
    "        q_a[row[\"support\"]][\"questions\"].append(row[\"question\"])\n",
    "        q_a[row[\"support\"]][\"answers\"].append(row[\"correct_answer\"])"
   ]
  },
  {
   "cell_type": "raw",
   "id": "45ff2060",
   "metadata": {},
   "source": [
    "ds = load_dataset(\"Dahoas/sft_instruct_helpful_preferences\")"
   ]
  },
  {
   "cell_type": "raw",
   "id": "6550f81a",
   "metadata": {
    "scrolled": true
   },
   "source": [
    "done = 0\n",
    "for row in tqdm(ds[\"train\"]):\n",
    "    _t = row[\"prompt\"].replace(\"Human:\", \"<|USER|>\").replace(\"Assistant:\", \"<|ASSISTANT|>\")\n",
    "    print(_t + \" \" + row[\"response\"].strip())\n",
    "    done += 1\n",
    "    if (done > 100):\n",
    "        break"
   ]
  },
  {
   "cell_type": "raw",
   "id": "39dc4b1d",
   "metadata": {},
   "source": [
    "import json\n",
    "with open(\"./SQuAD_prepared.json\", \"w\") as f:\n",
    "    f.write(json.dumps(q_a, indent=4))"
   ]
  },
  {
   "cell_type": "code",
   "execution_count": 12,
   "id": "5caaf797",
   "metadata": {},
   "outputs": [],
   "source": [
    "from transformers import AutoTokenizer"
   ]
  },
  {
   "cell_type": "code",
   "execution_count": 13,
   "id": "5c3997b3",
   "metadata": {},
   "outputs": [],
   "source": [
    "stab = AutoTokenizer.from_pretrained(\"StabilityAI/stablelm-base-alpha-3b\")"
   ]
  },
  {
   "cell_type": "code",
   "execution_count": 14,
   "id": "f2441bdf",
   "metadata": {},
   "outputs": [],
   "source": [
    "import numpy as np"
   ]
  },
  {
   "cell_type": "code",
   "execution_count": 15,
   "id": "8267dbb5",
   "metadata": {},
   "outputs": [],
   "source": [
    "def get_lengths(tokenizer):\n",
    "    _lengths = []\n",
    "    for split in splits:\n",
    "        q_a = dicts[split]\n",
    "        for key in tqdm(q_a):\n",
    "            for i in range(len(q_a[key][\"questions\"])):\n",
    "                q = q_a[key][\"questions\"][i]\n",
    "                a = q_a[key][\"answers\"][i]\n",
    "                _t = f\"T T {key} T {q} T {a} T\"\n",
    "                _lengths.append(len(tokenizer.encode(_t)))\n",
    "        return _lengths"
   ]
  },
  {
   "cell_type": "code",
   "execution_count": 16,
   "id": "cd26fdf9",
   "metadata": {},
   "outputs": [
    {
     "data": {
      "application/vnd.jupyter.widget-view+json": {
       "model_id": "45588555ea8247f2a3f26b55298c4e08",
       "version_major": 2,
       "version_minor": 0
      },
      "text/plain": [
       "  0%|          | 0/29504 [00:00<?, ?it/s]"
      ]
     },
     "metadata": {},
     "output_type": "display_data"
    },
    {
     "name": "stdout",
     "output_type": "stream",
     "text": [
      "GPTNeoXTokenizerFast(name_or_path='StabilityAI/stablelm-base-alpha-3b', vocab_size=50254, model_max_length=1000000000000000019884624838656, is_fast=True, padding_side='right', truncation_side='right', special_tokens={'bos_token': '<|endoftext|>', 'eos_token': '<|endoftext|>', 'unk_token': '<|endoftext|>'}, clean_up_tokenization_spaces=True)\n",
      "Max Length: 1198\n"
     ]
    }
   ],
   "source": [
    "tokenizers = [stab]\n",
    "for tokenizer in tokenizers:\n",
    "    _lengths = get_lengths(tokenizer)\n",
    "    print(tokenizer)\n",
    "    print(\"Max Length:\", np.max(_lengths))"
   ]
  },
  {
   "cell_type": "raw",
   "id": "cc7a7f39",
   "metadata": {},
   "source": [
    "import random\n",
    "from tqdm.notebook import trange\n",
    "keys = list(q_a.keys())\n",
    "not_answered = []\n",
    "for i in trange(100000):\n",
    "    a_ = random.choice(keys)\n",
    "    b_ = random.choice(keys)\n",
    "    if (a_ != b_):\n",
    "        not_answered.append((a_, random.choice(q_a[b_][\"questions\"])))"
   ]
  },
  {
   "cell_type": "raw",
   "id": "a28a4c1a",
   "metadata": {
    "scrolled": true
   },
   "source": [
    "for i in range(100):\n",
    "    print(random.choice(not_answered))"
   ]
  },
  {
   "cell_type": "raw",
   "id": "b00280a9",
   "metadata": {},
   "source": [
    "The above doesnt really work for negative sampling. Let's try a slightly more evolved strategy involving vector search over the dataset.\n"
   ]
  },
  {
   "cell_type": "code",
   "execution_count": 17,
   "id": "f4399546",
   "metadata": {},
   "outputs": [],
   "source": [
    "vector_lists = {}\n",
    "\n",
    "for key in dicts:\n",
    "    vector_lists[key] = []"
   ]
  },
  {
   "cell_type": "code",
   "execution_count": 18,
   "id": "b113e81f",
   "metadata": {},
   "outputs": [],
   "source": [
    "import requests\n",
    "from tqdm.notebook import trange\n",
    "import json"
   ]
  },
  {
   "cell_type": "code",
   "execution_count": 19,
   "id": "17452261",
   "metadata": {},
   "outputs": [
    {
     "data": {
      "application/vnd.jupyter.widget-view+json": {
       "model_id": "ddc1523fe70a4f3e96fcf15db4beb657",
       "version_major": 2,
       "version_minor": 0
      },
      "text/plain": [
       "  0%|          | 0/29504 [00:00<?, ?it/s]"
      ]
     },
     "metadata": {},
     "output_type": "display_data"
    },
    {
     "data": {
      "application/vnd.jupyter.widget-view+json": {
       "model_id": "45681b0d95e645d98f63ad74a6ff7e0a",
       "version_major": 2,
       "version_minor": 0
      },
      "text/plain": [
       "  0%|          | 0/2955 [00:00<?, ?it/s]"
      ]
     },
     "metadata": {},
     "output_type": "display_data"
    },
    {
     "name": "stdout",
     "output_type": "stream",
     "text": [
      "CPU times: user 1min 14s, sys: 7.43 s, total: 1min 21s\n",
      "Wall time: 6min 37s\n"
     ]
    }
   ],
   "source": [
    "%%time\n",
    "for split in dicts:\n",
    "    vectors = vector_lists[split]\n",
    "    keys = list(dicts[split].keys())\n",
    "    for i in trange(len(keys)):\n",
    "        vector = requests.post(\"http://localhost:8200/embed\", json={\"chunk\":keys[i]}).json()\n",
    "        vector = json.loads(vector)[0]\n",
    "        vectors.append(vector)"
   ]
  },
  {
   "cell_type": "code",
   "execution_count": 20,
   "id": "f902adc9",
   "metadata": {},
   "outputs": [
    {
     "data": {
      "application/vnd.jupyter.widget-view+json": {
       "model_id": "710aa67091be40459ca6e92500d9d89a",
       "version_major": 2,
       "version_minor": 0
      },
      "text/plain": [
       "  0%|          | 0/29504 [00:00<?, ?it/s]"
      ]
     },
     "metadata": {},
     "output_type": "display_data"
    },
    {
     "data": {
      "application/vnd.jupyter.widget-view+json": {
       "model_id": "ca6b11ab22964a88b3f903fe03139b8e",
       "version_major": 2,
       "version_minor": 0
      },
      "text/plain": [
       "  0%|          | 0/2955 [00:00<?, ?it/s]"
      ]
     },
     "metadata": {},
     "output_type": "display_data"
    }
   ],
   "source": [
    "cosine_sim = torch.nn.CosineSimilarity()\n",
    "unmatched_pairs = {}\n",
    "for split in splits:\n",
    "    unmatched_pairs[split] = []\n",
    "    vectors = vector_lists[split]\n",
    "    _vectors = torch.FloatTensor(np.asarray(vectors)).cuda()\n",
    "    for i in trange(len(vectors)):\n",
    "        vector = vectors[i]\n",
    "        _v = torch.FloatTensor([vector]).cuda()\n",
    "        _sim = cosine_sim(_v, _vectors)\n",
    "        sorted, indices = torch.sort(_sim)\n",
    "        next_highest = indices.cpu().numpy()[-2]\n",
    "        unmatched_pairs[split].append((i, next_highest))\n",
    "\n",
    "#     print(keys[i],\"\\n\\n\", keys[next_highest])\n",
    "#     break"
   ]
  },
  {
   "cell_type": "code",
   "execution_count": 21,
   "id": "248d08f4",
   "metadata": {},
   "outputs": [],
   "source": [
    "user_handle = \"<|USER|>\"\n",
    "system_handle = \"<|SYSTEM|>\"\n",
    "bot_handle = \"<|ASSISTANT|>\"\n",
    "instruction = \"<|INSTRUCTION|>\"\n",
    "context_token = \"<|CONTEXT|>\"\n",
    "answer_not_in_context_token = \"<|ANSWER_NOT_IN_CONTEXT|>\"\n",
    "answer_in_context_token = \"<|ANSWER_IN_CONTEXT|>\"\n",
    "eos_token = \"</s>\"\n",
    "\n",
    "\n",
    "possible = \"{context_token} \\n {context} \\n {user_handle} {question} \\n {bot_handle} {answer_in_context_token} {response}{eos_token}\"\n",
    "not_possible = \"{context_token} \\n {context} \\n {user_handle} {question} \\n {bot_handle} {answer_not_in_context_token} Not answerable. {eos_token}\""
   ]
  },
  {
   "cell_type": "code",
   "execution_count": 22,
   "id": "8c67b05a",
   "metadata": {},
   "outputs": [],
   "source": [
    "f_ds = {}\n",
    "for split in splits:\n",
    "    f_ds[split] = []"
   ]
  },
  {
   "cell_type": "code",
   "execution_count": null,
   "id": "a8c8943d",
   "metadata": {},
   "outputs": [],
   "source": [
    "#first add the un-answerable questions"
   ]
  },
  {
   "cell_type": "code",
   "execution_count": 23,
   "id": "c2527a6a",
   "metadata": {},
   "outputs": [
    {
     "name": "stdout",
     "output_type": "stream",
     "text": [
      "Architecturally, the school has a Catholic character. Atop the Main Building's gold dome is a golden statue of the Virgin Mary. Immediately in front of the Main Building and facing it, is a copper statue of Christ with arms upraised with the legend \"Venite Ad Me Omnes\". Next to the Main Building is the Basilica of the Sacred Heart. Immediately behind the basilica is the Grotto, a Marian place of prayer and reflection. It is a replica of the grotto at Lourdes, France where the Virgin Mary reputedly appeared to Saint Bernadette Soubirous in 1858. At the end of the main drive (and in a direct line that connects through 3 statues and the Gold Dome), is a simple, modern stone statue of Mary.\n",
      "Because of its Catholic identity, a number of religious buildings stand on campus. The Old College building has become one of two seminaries on campus run by the Congregation of Holy Cross. The current Basilica of the Sacred Heart is located on the spot of Fr. Sorin's original church, which became too small for the growing college. It is built in French Revival style and it is decorated by stained glass windows imported directly from France. The interior was painted by Luigi Gregori, an Italian painter invited by Fr. Sorin to be artist in residence. The Basilica also features a bell tower with a carillon. Inside the church there are also sculptures by Ivan Mestrovic. The Grotto of Our Lady of Lourdes, which was built in 1896, is a replica of the original in Lourdes, France. It is very popular among students and alumni as a place of prayer and meditation, and it is considered one of the most beloved spots on campus.\n"
     ]
    }
   ],
   "source": [
    "split = \"train\"\n",
    "c_, q_ = unmatched_pairs[split][0]\n",
    "print(list(dicts[split].keys())[c_])\n",
    "print(list(dicts[split].keys())[q_])"
   ]
  },
  {
   "cell_type": "code",
   "execution_count": 24,
   "id": "9fb444bd",
   "metadata": {
    "scrolled": false
   },
   "outputs": [
    {
     "data": {
      "application/vnd.jupyter.widget-view+json": {
       "model_id": "6bf7e5be834248919944d11adbd2539f",
       "version_major": 2,
       "version_minor": 0
      },
      "text/plain": [
       "  0%|          | 0/29504 [00:00<?, ?it/s]"
      ]
     },
     "metadata": {},
     "output_type": "display_data"
    },
    {
     "data": {
      "application/vnd.jupyter.widget-view+json": {
       "model_id": "be40de0ea304421fae6193d1d3f24159",
       "version_major": 2,
       "version_minor": 0
      },
      "text/plain": [
       "  0%|          | 0/2955 [00:00<?, ?it/s]"
      ]
     },
     "metadata": {},
     "output_type": "display_data"
    }
   ],
   "source": [
    "for split in splits:\n",
    "    q_a = dicts[split]\n",
    "    keys = list(q_a.keys())\n",
    "    for i in trange(len(unmatched_pairs[split])):\n",
    "        pair = unmatched_pairs[split][i]\n",
    "        _a = q_a[keys[pair[1]]][\"questions\"]\n",
    "        _context = keys[pair[0]]\n",
    "        _question = random.choice(_a)\n",
    "        _q = not_possible.format(context_token=context_token, context=_context, user_handle=user_handle, question=_question, bot_handle=bot_handle, answer_not_in_context_token =answer_not_in_context_token, eos_token=eos_token, answer_in_context_token=answer_in_context_token)\n",
    "        f_ds[split].append(_q)"
   ]
  },
  {
   "cell_type": "code",
   "execution_count": 25,
   "id": "6c330c78",
   "metadata": {
    "scrolled": true
   },
   "outputs": [
    {
     "name": "stdout",
     "output_type": "stream",
     "text": [
      "['<|CONTEXT|> \\n Architecturally, the school has a Catholic character. Atop the Main Building\\'s gold dome is a golden statue of the Virgin Mary. Immediately in front of the Main Building and facing it, is a copper statue of Christ with arms upraised with the legend \"Venite Ad Me Omnes\". Next to the Main Building is the Basilica of the Sacred Heart. Immediately behind the basilica is the Grotto, a Marian place of prayer and reflection. It is a replica of the grotto at Lourdes, France where the Virgin Mary reputedly appeared to Saint Bernadette Soubirous in 1858. At the end of the main drive (and in a direct line that connects through 3 statues and the Gold Dome), is a simple, modern stone statue of Mary. \\n <|USER|> In which architectural style is the Basilica of the Sacred Heart at Notre Dame made? \\n <|ASSISTANT|> <|ANSWER_NOT_IN_CONTEXT|> Not answerable. </s>', \"<|CONTEXT|> \\n As at most other universities, Notre Dame's students run a number of news media outlets. The nine student-run outlets include three newspapers, both a radio and television station, and several magazines and journals. Begun as a one-page journal in September 1876, the Scholastic magazine is issued twice monthly and claims to be the oldest continuous collegiate publication in the United States. The other magazine, The Juggler, is released twice a year and focuses on student literature and artwork. The Dome yearbook is published annually. The newspapers have varying publication interests, with The Observer published daily and mainly reporting university and other news, and staffed by students from both Notre Dame and Saint Mary's College. Unlike Scholastic and The Dome, The Observer is an independent publication and does not have a faculty advisor or any editorial oversight from the University. In 1987, when some students believed that The Observer began to show a conservative bias, a liberal newspaper, Common Sense was published. Likewise, in 2003, when other students believed that the paper showed a liberal bias, the conservative paper Irish Rover went into production. Neither paper is published as often as The Observer; however, all three are distributed to all students. Finally, in Spring 2008 an undergraduate journal for political science research, Beyond Politics, made its debut. \\n <|USER|> What is the name of Northwestern's undergraduate yearbook? \\n <|ASSISTANT|> <|ANSWER_NOT_IN_CONTEXT|> Not answerable. </s>\", '<|CONTEXT|> \\n The university is the major seat of the Congregation of Holy Cross (albeit not its official headquarters, which are in Rome). Its main seminary, Moreau Seminary, is located on the campus across St. Joseph lake from the Main Building. Old College, the oldest building on campus and located near the shore of St. Mary lake, houses undergraduate seminarians. Retired priests and brothers reside in Fatima House (a former retreat center), Holy Cross House, as well as Columba Hall near the Grotto. The university through the Moreau Seminary has ties to theologian Frederick Buechner. While not Catholic, Buechner has praised writers from Notre Dame and Moreau Seminary created a Buechner Prize for Preaching. \\n <|USER|> What is Congregation of Holy Cross in Latin? \\n <|ASSISTANT|> <|ANSWER_NOT_IN_CONTEXT|> Not answerable. </s>', \"<|CONTEXT|> \\n The College of Engineering was established in 1920, however, early courses in civil and mechanical engineering were a part of the College of Science since the 1870s. Today the college, housed in the Fitzpatrick, Cushing, and Stinson-Remick Halls of Engineering, includes five departments of study – aerospace and mechanical engineering, chemical and biomolecular engineering, civil engineering and geological sciences, computer science and engineering, and electrical engineering – with eight B.S. degrees offered. Additionally, the college offers five-year dual degree programs with the Colleges of Arts and Letters and of Business awarding additional B.A. and Master of Business Administration (MBA) degrees, respectively. \\n <|USER|> What's Pakistan's program called that's comparable to the British A Level? \\n <|ASSISTANT|> <|ANSWER_NOT_IN_CONTEXT|> Not answerable. </s>\", \"<|CONTEXT|> \\n All of Notre Dame's undergraduate students are a part of one of the five undergraduate colleges at the school or are in the First Year of Studies program. The First Year of Studies program was established in 1962 to guide incoming freshmen in their first year at the school before they have declared a major. Each student is given an academic advisor from the program who helps them to choose classes that give them exposure to any major in which they are interested. The program also includes a Learning Resource Center which provides time management, collaborative learning, and subject tutoring. This program has been recognized previously, by U.S. News & World Report, as outstanding. \\n <|USER|> What percentage of students were admitted to Notre Dame in fall 2015? \\n <|ASSISTANT|> <|ANSWER_NOT_IN_CONTEXT|> Not answerable. </s>\", '<|CONTEXT|> \\n The university first offered graduate degrees, in the form of a Master of Arts (MA), in the 1854–1855 academic year. The program expanded to include Master of Laws (LL.M.) and Master of Civil Engineering in its early stages of growth, before a formal graduate school education was developed with a thesis not required to receive the degrees. This changed in 1924 with formal requirements developed for graduate degrees, including offering Doctorate (PhD) degrees. Today each of the five colleges offer graduate education. Most of the departments from the College of Arts and Letters offer PhD programs, while a professional Master of Divinity (M.Div.) program also exists. All of the departments in the College of Science offer PhD programs, except for the Department of Pre-Professional Studies. The School of Architecture offers a Master of Architecture, while each of the departments of the College of Engineering offer PhD programs. The College of Business offers multiple professional programs including MBA and Master of Science in Accountancy programs. It also operates facilities in Chicago and Cincinnati for its executive MBA program. Additionally, the Alliance for Catholic Education program offers a Master of Education program where students study at the university during the summer and teach in Catholic elementary schools, middle schools, and high schools across the Southern United States for two school years. \\n <|USER|> In the fall of 2015, which school did 11.7% of undergraduates enroll in? \\n <|ASSISTANT|> <|ANSWER_NOT_IN_CONTEXT|> Not answerable. </s>', \"<|CONTEXT|> \\n The Joan B. Kroc Institute for International Peace Studies at the University of Notre Dame is dedicated to research, education and outreach on the causes of violent conflict and the conditions for sustainable peace. It offers PhD, Master's, and undergraduate degrees in peace studies. It was founded in 1986 through the donations of Joan B. Kroc, the widow of McDonald's owner Ray Kroc. The institute was inspired by the vision of the Rev. Theodore M. Hesburgh CSC, President Emeritus of the University of Notre Dame. The institute has contributed to international policy discussions about peace building practices. \\n <|USER|> What percentage of the food served at Notre Dame is locally grown? \\n <|ASSISTANT|> <|ANSWER_NOT_IN_CONTEXT|> Not answerable. </s>\", '<|CONTEXT|> \\n The library system of the university is divided between the main library and each of the colleges and schools. The main building is the 14-story Theodore M. Hesburgh Library, completed in 1963, which is the third building to house the main collection of books. The front of the library is adorned with the Word of Life mural designed by artist Millard Sheets. This mural is popularly known as \"Touchdown Jesus\" because of its proximity to Notre Dame Stadium and Jesus\\' arms appearing to make the signal for a touchdown. \\n <|USER|> How often is Catholic mass held at Notre Dame in a week? \\n <|ASSISTANT|> <|ANSWER_NOT_IN_CONTEXT|> Not answerable. </s>', '<|CONTEXT|> \\n Notre Dame is known for its competitive admissions, with the incoming class enrolling in fall 2015 admitting 3,577 from a pool of 18,156 (19.7%). The academic profile of the enrolled class continues to rate among the top 10 to 15 in the nation for national research universities. The university practices a non-restrictive early action policy that allows admitted students to consider admission to Notre Dame as well as any other colleges to which they were accepted. 1,400 of the 3,577 (39.1%) were admitted under the early action plan. Admitted students came from 1,311 high schools and the average student traveled more than 750 miles to Notre Dame, making it arguably the most representative university in the United States. While all entering students begin in the College of the First Year of Studies, 25% have indicated they plan to study in the liberal arts or social sciences, 24% in engineering, 24% in business, 24% in science, and 3% in architecture. \\n <|USER|> How many teams participate in the Notre Dame Bookstore Basketball tournament? \\n <|ASSISTANT|> <|ANSWER_NOT_IN_CONTEXT|> Not answerable. </s>', '<|CONTEXT|> \\n In 2015-2016, Notre Dame ranked 18th overall among \"national universities\" in the United States in U.S. News & World Report\\'s Best Colleges 2016. In 2014, USA Today ranked Notre Dame 10th overall for American universities based on data from College Factual. Forbes.com\\'s America\\'s Best Colleges ranks Notre Dame 13th among colleges in the United States in 2015, 8th among Research Universities, and 1st in the Midwest. U.S. News & World Report also lists Notre Dame Law School as 22nd overall. BusinessWeek ranks Mendoza College of Business undergraduate school as 1st overall. It ranks the MBA program as 20th overall. The Philosophical Gourmet Report ranks Notre Dame\\'s graduate philosophy program as 15th nationally, while ARCHITECT Magazine ranked the undergraduate architecture program as 12th nationally. Additionally, the study abroad program ranks sixth in highest participation percentage in the nation, with 57.6% of students choosing to study abroad in 17 countries. According to payscale.com, undergraduate alumni of University of Notre Dame have a mid-career median salary $110,000, making it the 24th highest among colleges and universities in the United States. The median starting salary of $55,300 ranked 58th in the same peer group. \\n <|USER|> How many teams participate in the Notre Dame Bookstore Basketball tournament? \\n <|ASSISTANT|> <|ANSWER_NOT_IN_CONTEXT|> Not answerable. </s>']\n"
     ]
    }
   ],
   "source": [
    "print(f_ds[\"train\"][:10])"
   ]
  },
  {
   "cell_type": "code",
   "execution_count": 26,
   "id": "221f2114",
   "metadata": {},
   "outputs": [],
   "source": [
    "possible = \"{context_token} \\n {context} \\n {user_handle} {question} \\n {bot_handle} {answer_in_context_token} {response} {eos_token}\""
   ]
  },
  {
   "cell_type": "code",
   "execution_count": 35,
   "id": "278fbf5a",
   "metadata": {
    "scrolled": true
   },
   "outputs": [
    {
     "data": {
      "application/vnd.jupyter.widget-view+json": {
       "model_id": "ca8ed714804c430d89e5d6dca15f4094",
       "version_major": 2,
       "version_minor": 0
      },
      "text/plain": [
       "  0%|          | 0/29504 [00:00<?, ?it/s]"
      ]
     },
     "metadata": {},
     "output_type": "display_data"
    },
    {
     "data": {
      "application/vnd.jupyter.widget-view+json": {
       "model_id": "381b49d552254a4f9c365ecc5baee29e",
       "version_major": 2,
       "version_minor": 0
      },
      "text/plain": [
       "  0%|          | 0/2955 [00:00<?, ?it/s]"
      ]
     },
     "metadata": {},
     "output_type": "display_data"
    }
   ],
   "source": [
    "for split in dicts:\n",
    "    _dict = dicts[split]\n",
    "    for key in tqdm(_dict):\n",
    "        for i in range(len(_dict[key][\"questions\"])):\n",
    "            _q = _dict[key][\"questions\"][i]\n",
    "            try:\n",
    "                _a = _dict[key][\"answers\"][i]\n",
    "                if (type(_a) == list):\n",
    "                    _a = _a[0]\n",
    "                _a = _a[0].upper() + _a[1:]\n",
    "                _f = possible.format(context_token=context_token, context=key, user_handle=user_handle, question=_q, bot_handle=bot_handle, response = _a, eos_token=eos_token, answer_in_context_token=answer_in_context_token)\n",
    "                f_ds[split].append(_f)\n",
    "            except:\n",
    "#                 print(_q, _dict[key][\"answers\"])\n",
    "                pass\n",
    "            "
   ]
  },
  {
   "cell_type": "code",
   "execution_count": 36,
   "id": "a895b6e3",
   "metadata": {},
   "outputs": [
    {
     "data": {
      "text/plain": [
       "40109"
      ]
     },
     "execution_count": 36,
     "metadata": {},
     "output_type": "execute_result"
    }
   ],
   "source": [
    "len(f_ds[\"validation\"])"
   ]
  },
  {
   "cell_type": "code",
   "execution_count": 37,
   "id": "2ea992b2",
   "metadata": {},
   "outputs": [
    {
     "name": "stdout",
     "output_type": "stream",
     "text": [
      "['<|CONTEXT|> \\n Mollusks have a hard outer shell. There is a layer of tissue called the mantle between the shell and the body. \\n <|USER|> What is the layer of tissue between the body and shell called? \\n <|ASSISTANT|> Mantle </s>', '<|CONTEXT|> \\n Roots are covered with thin-walled dermal cells and tiny root hairs. These features are well suited to absorb water and dissolved minerals from the soil. \\n <|USER|> Well suited to absorb water and dissolved minerals from the soil, thin-walled dermal cells and tiny hairs cover what basic plant structures? \\n <|ASSISTANT|> Roots </s>', '<|CONTEXT|> \\n The Heart The heart is a complex muscle that consists of two pumps: one that pumps blood through pulmonary circulation to the lungs, and the other that pumps blood through systemic circulation to the rest of the body’s tissues (and the heart itself). The heart is asymmetrical, with the left side being larger than the right side, correlating with the different sizes of the pulmonary and systemic circuits (Figure 16.10). In humans, the heart is about the size of a clenched fist; it is divided into four chambers: two atria and two ventricles. There is one atrium and one ventricle on the right side and one atrium and one ventricle on the left side. The right atrium receives deoxygenated blood from the systemic circulation through the major veins: the superior vena cava, which drains blood from the head and from the veins that come from the arms, as well as the inferior vena cava, which drains blood from the veins that come from the lower organs and the legs. This deoxygenated blood then passes to the right ventricle through the tricuspid valve, which prevents the backflow of blood. After it is filled, the right ventricle contracts, pumping the blood to the lungs for reoxygenation. The left atrium receives the oxygen-rich blood from the lungs. This blood passes through the bicuspid valve to the left ventricle where the blood is pumped into the aorta. The aorta is the major artery of the body, taking oxygenated blood to the organs and muscles of the body. This pattern of pumping is referred to as double circulation and is found in all mammals. (Figure 16.10). \\n <|USER|> What is the major artery of the body, taking oxygenated blood to the organs and muscles of the body? \\n <|ASSISTANT|> Aorta </s>', '<|CONTEXT|> \\n Lung cancer is a disease in which the cells found in the lungs grow out of control. The growing mass of cells can form a tumor that pushes into nearby tissues. The tumor will affect how these tissues work. Lung cancer is the most common cause of cancer-related death in men, and the second most common in women. It is responsible for 1.3 million deaths worldwide every year ( Figure below ). The most common symptoms are shortness of breath, coughing (including coughing up blood), and weight loss. The most common cause of lung cancer is exposure to tobacco smoke. \\n <|USER|> What do you call a growing mass of cancerous cells that pushes into nearby tissues? \\n <|ASSISTANT|> Tumor </s>', '<|CONTEXT|> \\n Potassium Potassium is the major intracellular cation. It helps establish the resting membrane potential in neurons and muscle fibers after membrane depolarization and action potentials. In contrast to sodium, potassium has very little effect on osmotic. \\n <|USER|> What is the major intracellular cation? \\n <|ASSISTANT|> Potassium </s>', '<|CONTEXT|> \\n Protein A large part of protein digestion takes place in the stomach. The enzyme pepsin plays an important role in the digestion of proteins by breaking down the intact protein to peptides, which are short chains of four to nine amino acids. In the duodenum, other enzymes— trypsin, elastase, and chymotrypsin—act on the peptides reducing them to smaller peptides. Trypsin elastase, carboxypeptidase, and chymotrypsin are produced by the pancreas and released into the duodenum where they act on the chyme. Further breakdown of peptides to single amino acids is aided by enzymes called peptidases (those that break down peptides). Specifically, carboxypeptidase, dipeptidase, and aminopeptidase play important roles in reducing the peptides to free amino acids. The amino acids are absorbed into the bloodstream through the small intestines. The steps in protein digestion are summarized in Figure 34.17 and Table 34.6. \\n <|USER|> The enzyme pepsin plays an important role in the digestion of proteins by breaking down intact protein to what short-chain amino acids? \\n <|ASSISTANT|> Peptides </s>', '<|CONTEXT|> \\n The rate of decay of a radioactive substance is constant over time. \\n <|USER|> What remains a constant of radioactive substance over time? \\n <|ASSISTANT|> Rate of decay </s>', '<|CONTEXT|> \\n Terrestrial ecosystems, also known for their diversity, are grouped into large categories called biomes. A biome is a largescale community of organisms, primarily defined on land by the dominant plant types that exist in geographic regions of the planet with similar climatic conditions. Examples of biomes include tropical rainforests, savannas, deserts, grasslands, temperate forests, and tundras. Grouping these ecosystems into just a few biome categories obscures the great diversity of the individual ecosystems within them. For example, the saguaro cacti (Carnegiea gigantean) and other plant life in the Sonoran Desert, in the United States, are relatively diverse compared with the desolate rocky desert of Boa Vista, an island off the coast of Western Africa (Figure 20.3). \\n <|USER|> Terrestrial ecosystems, also known for their diversity, are grouped into large categories called what? \\n <|ASSISTANT|> Biomes </s>', '<|CONTEXT|> \\n The modern day formulation of gun powder is called black powder. It is still commonly used today. Its formulation is still quite similar to what was used in 9 th century China. Black powder is considered a low explosive. It is a mixture that burns quickly, but the resulting shock wave travels at subsonic speeds. The speed at which it burns is dependent on the accessibility of oxygen atoms to the carbon source. In contrast, high explosives like nitroglycerin detonate instead of burning, creating shock waves that are supersonic (faster than the speed of sound). \\n <|USER|> High explosives create shock waves that exceed the speed of sound, a phenomenon that goes by what term? \\n <|ASSISTANT|> Supersonic </s>', '<|CONTEXT|> \\n An organ is a structure composed of two or more types of tissues that work together to do a specific task. Most modern plants have several organs that help them survive and reproduce in a variety of habitats. Major organs of most plants include roots, stems, and leaves. These and other plant organs generally contain all three major tissue types. \\n <|USER|> What do you call a structure composed of two or more types of tissues that work together to do a specific task? \\n <|ASSISTANT|> Organ </s>']\n"
     ]
    }
   ],
   "source": [
    "print(f_ds[\"train\"][-10:])"
   ]
  },
  {
   "cell_type": "code",
   "execution_count": 29,
   "id": "0bc14857",
   "metadata": {},
   "outputs": [],
   "source": [
    "np.random.shuffle(f_ds[\"train\"])\n",
    "np.random.shuffle(f_ds[\"validation\"])\n",
    "\n",
    "f_ds[\"train\"].extend(f_ds[\"validation\"][int(0.25*len(f_ds[\"validation\"])):])\n",
    "f_ds[\"validation\"] = f_ds[\"validation\"][:int(0.25*len(f_ds[\"validation\"]))]"
   ]
  },
  {
   "cell_type": "code",
   "execution_count": 30,
   "id": "8e555ce7",
   "metadata": {},
   "outputs": [
    {
     "name": "stdout",
     "output_type": "stream",
     "text": [
      "230943\n"
     ]
    }
   ],
   "source": [
    "print(len(f_ds[\"train\"]))"
   ]
  },
  {
   "cell_type": "code",
   "execution_count": 31,
   "id": "8e50dee8",
   "metadata": {},
   "outputs": [
    {
     "name": "stdout",
     "output_type": "stream",
     "text": [
      "5113\n"
     ]
    }
   ],
   "source": [
    "print(len(f_ds[\"validation\"]))"
   ]
  },
  {
   "cell_type": "code",
   "execution_count": 32,
   "id": "0a92f1e8",
   "metadata": {
    "scrolled": true
   },
   "outputs": [
    {
     "data": {
      "application/vnd.jupyter.widget-view+json": {
       "model_id": "5daa5e4d3d3b451e9c79711d1929a5d7",
       "version_major": 2,
       "version_minor": 0
      },
      "text/plain": [
       "  0%|          | 0/100 [00:00<?, ?it/s]"
      ]
     },
     "metadata": {},
     "output_type": "display_data"
    },
    {
     "name": "stdout",
     "output_type": "stream",
     "text": [
      "<|CONTEXT|> \n",
      " Like all organisms, plants detect and respond to stimuli in their environment. Their main response is to change how they grow. \n",
      " <|USER|> What do plants respond to in their environment? \n",
      " <|ASSISTANT|> Changes in sunlight or water </s>\n",
      "<|CONTEXT|> \n",
      " When used with a load that has a torque curve that increases with speed, the motor will operate at the speed where the torque developed by the motor is equal to the load torque. Reducing the load will cause the motor to speed up, and increasing the load will cause the motor to slow down until the load and motor torque are equal. Operated in this manner, the slip losses are dissipated in the secondary resistors and can be very significant. The speed regulation and net efficiency is also very poor. \n",
      " <|USER|> How efficient is such a design? \n",
      " <|ASSISTANT|> Very poor </s>\n",
      "<|CONTEXT|> \n",
      " Large brushes are desired for a larger brush contact area to maximize motor output, but small brushes are desired for low mass to maximize the speed at which the motor can run without the brushes excessively bouncing and sparking. (Small brushes are also desirable for lower cost.) Stiffer brush springs can also be used to make brushes of a given mass work at a higher speed, but at the cost of greater friction losses (lower efficiency) and accelerated brush and commutator wear. Therefore, DC motor brush design entails a trade-off between output power, speed, and efficiency/wear. \n",
      " <|USER|> What are large brushes favorable for? \n",
      " <|ASSISTANT|> Motor output </s>\n",
      "<|CONTEXT|> \n",
      " In 2009, Hispanic and Latino Americans represented 52.0% of the Bronx's population. Puerto Ricans represented 23.2% of the borough's population. Over 72,500 Mexicans lived in the Bronx, and they formed 5.2% of the population. Cubans numbered over 9,640 members and formed 0.7% of the population. In addition, over 319,000 people were of various Hispanic and Latino groups, such as Dominican, Salvadoran, and so on. These groups collectively represented 22.9% of the population. At the 2010 Census, 53.5% of Bronx's population was of Hispanic, Latino, or Spanish origin (they may be of any race). Asian Americans are a small but sizable minority in the borough. Roughly 49,600 Asians make up 3.6% of the population. Roughly 13,600 Indians call the Bronx home, along with 9,800 Chinese, 6,540 Filipinos, 2,260 Vietnamese, 2,010 Koreans, and 1,100 Japanese. \n",
      " <|USER|> How much of the Bronx's population is non-Hispanic White? \n",
      " <|ASSISTANT|> <|ANSWER_NOT_IN_CONTEXT|> Not answerable. </s>\n",
      "<|CONTEXT|> \n",
      " Acids change the color of certain acid-base indicators. Two common indicators are litmus and phenolphthalein. Blue litmus turns red in the presence of an acid, while phenolphthalein turns colorless. \n",
      " <|USER|> What causes blue litmus to turn red? \n",
      " <|ASSISTANT|> Acid </s>\n",
      "<|CONTEXT|> \n",
      " The state of California was admitted to the United States in 1850. That same year San Diego was designated the seat of the newly established San Diego County and was incorporated as a city. Joshua H. Bean, the last alcalde of San Diego, was elected the first mayor. Two years later the city was bankrupt; the California legislature revoked the city's charter and placed it under control of a board of trustees, where it remained until 1889. A city charter was re-established in 1889 and today's city charter was adopted in 1931. \n",
      " <|USER|> Who controlled San Diego's charter for 2 years after it was revoked by California legislature? \n",
      " <|ASSISTANT|> A board of trustees </s>\n",
      "<|CONTEXT|> \n",
      " Since the 2006 FIFA World Cup, the internal and external evaluation of Germany's national image has changed. In the annual Nation Brands Index global survey, Germany became significantly and repeatedly more highly ranked after the tournament. People in 20 different states assessed the country's reputation in terms of culture, politics, exports, its people and its attractiveness to tourists, immigrants and investments. Germany has been named the world's second most valued nation among 50 countries in 2010. Another global opinion poll, for the BBC, revealed that Germany is recognised for the most positive influence in the world in 2010. A majority of 59% have a positive view of the country, while 14% have a negative view. \n",
      " <|USER|> What percentage of people have a positive view of Germany? \n",
      " <|ASSISTANT|> 59 </s>\n",
      "<|CONTEXT|> \n",
      " On March 17, 1991, an all-Russian referendum created the post of President of the RSFSR. On June 12, Boris Yeltsin was elected President of Russia by popular vote. During an unsuccessful coup attempt on August 19–21, 1991 in Moscow, the capital of the Soviet Union and Russia, President of Russia Yeltsin strongly supported the President of the Soviet Union, Mikhail Gorbachev. \n",
      " <|USER|> On what date was the office of President of the RSFSR created? \n",
      " <|ASSISTANT|> March 17, 1991 </s>\n",
      "<|CONTEXT|> \n",
      " An ion is an atom or group of bonded atoms that has a positive or negative charge. Ions are formed when an atom gains or loses electrons from its valence shell ( Figure below ). This process causes an imbalance between the number of positively charged protons and negatively charged electrons, so the overall ion will carry a net positive or negative charge. \n",
      " <|USER|> What is an atom or group of bonded atoms that has a positive or negative charge? \n",
      " <|ASSISTANT|> An ion </s>\n",
      "<|CONTEXT|> \n",
      " The principles of imperialism are often generalizable to the policies and practices of the British Empire \"during the last generation, and proceeds rather by diagnosis than by historical description\". British imperialism often used the concept of Terra nullius (Latin expression which stems from Roman law meaning 'empty land'). The country of Australia serves as a case study in relation to British settlement and colonial rule of the continent in the eighteenth century, as it was premised on terra nullius, and its settlers considered it unused by its sparse Aboriginal inhabitants. \n",
      " <|USER|> When did Great Britain colonize Australia? \n",
      " <|ASSISTANT|> The eighteenth century </s>\n",
      "<|CONTEXT|> \n",
      " The post-Mughal era was dominated by the rise of the Maratha suzerainty as other small regional states (mostly late Mughal tributary states) emerged, and also by the increasing activities of European powers. There is no doubt that the single most important power to emerge in the long twilight of the Mughal dynasty was the Maratha confederacy. The Maratha kingdom was founded and consolidated by Chatrapati Shivaji, a Maratha aristocrat of the Bhonsle clan who was determined to establish Hindavi Swarajya. Sir J.N. Sarkar described Shivaji as \"the last great constructive genius and nation builder that the Hindu race has produced\". However, the credit for making the Marathas formidable power nationally goes to Peshwa Bajirao I. Historian K.K. Datta wrote about Bajirao I: \n",
      " <|USER|> What founding was of importance in the  decline of the Mughals? \n",
      " <|ASSISTANT|> Maratha confederacy </s>\n",
      "<|CONTEXT|> \n",
      " No provision within the constitution grants the monarch an ability to veto legislation directly; however, no provision prohibits the sovereign from withholding royal assent, which effectively constitutes a veto. When the Spanish media asked King Juan Carlos if he would endorse the bill legalising same-sex marriages, he answered \"Soy el Rey de España y no el de Bélgica\" (\"I am the King of Spain and not that of Belgium\")—a reference to King Baudouin I of Belgium, who had refused to sign the Belgian law legalising abortion. The King gave royal assent to Law 13/2005 on 1 July 2005; the law was gazetted in the Boletín Oficial del Estado on 2 July and came into effect on 3 July 2005. Likewise, in 2010, King Juan Carlos gave royal assent to a law permitting abortion on demand. \n",
      " <|USER|> What other controversial bill did the king give his assent to in 2010? \n",
      " <|ASSISTANT|> A law permitting abortion on demand </s>\n",
      "<|CONTEXT|> \n",
      " Anita Baker, Sade, Regina Belle, and Luther Vandross are other examples of artists who appeal to mainstream AC, urban AC and smooth jazz listeners. Some soft AC and urban AC stations like to play smooth jazz on the weekends. In recent years, the Smooth Jazz format has been renamed to Smooth AC, as an attempt to lure younger listeners. \n",
      " <|USER|> Along with Kenny G and Dave Koz, what artist was featured on smooth jazz stations? \n",
      " <|ASSISTANT|> <|ANSWER_NOT_IN_CONTEXT|> Not answerable. </s>\n",
      "<|CONTEXT|> \n",
      " As with the minerals discussed above, some vitamins are recognized as organic essential nutrients, necessary in the diet for good health. (Vitamin D is the exception: it can be synthesized in the skin, in the presence of UVB radiation.) Certain vitamin-like compounds that are recommended in the diet, such as carnitine, are thought useful for survival and health, but these are not \"essential\" dietary nutrients because the human body has some capacity to produce them from other compounds. Moreover, thousands of different phytochemicals have recently been discovered in food (particularly in fresh vegetables), which may have desirable properties including antioxidant activity (see below); however, experimental demonstration has been suggestive but inconclusive. Other essential nutrients that are not classified as vitamins include essential amino acids (see above), choline, essential fatty acids (see above), and the minerals discussed in the preceding section. \n",
      " <|USER|> What is choline not an example of? \n",
      " <|ASSISTANT|> Vitamins </s>\n",
      "<|CONTEXT|> \n",
      " Additionally, owing to its colonial history, cuisine in Eritrea features more Italian influences than are present in Ethiopian cooking, including more pasta and greater use of curry powders and cumin.The Italian Eritrean cuisine started to be practiced during the colonial times of the Kingdom of Italy, when a large number of Italians moved to Eritrea. They brought the use of \"pasta\" to Italian Eritrea, and it is one of the main food eaten in present-day Asmara. An Italian Eritrean cuisine emerged, and dishes common dishes are 'Pasta al Sugo e Berbere', which means \"Pasta with tomato sauce and berbere\" (spice), but there are many more like \"lasagna\" and \"cotoletta alla milanese\" (milano cutlet). Alongside sowa, people in Eritrea also tend to drink coffee. Mies is another popular local alcoholic beverage, made out of honey. \n",
      " <|USER|> Why does Eritrean cooking tend to feature more seafood than Ethiopian cuisine? \n",
      " <|ASSISTANT|> <|ANSWER_NOT_IN_CONTEXT|> Not answerable. </s>\n",
      "<|CONTEXT|> \n",
      " In Suriname today, Dutch is the sole official language, and over 60 percent of the population speaks it as a mother tongue. Dutch is the obligatory medium of instruction in schools in Suriname, even for non-native speakers. A further twenty-four percent of the population speaks Dutch as a second language. Suriname gained its independence from the Netherlands in 1975 and has been an associate member of the Dutch Language Union since 2004. The lingua franca of Suriname, however, is Sranan Tongo, spoken natively by about a fifth of the population. \n",
      " <|USER|> What's the common language that around 20% of Suriname's people speak? \n",
      " <|ASSISTANT|> Sranan Tongo </s>\n",
      "<|CONTEXT|> \n",
      " On January 21, 1990, Rukh organized a 300-mile (480 km) human chain between Kiev, Lviv, and Ivano-Frankivsk. Hundreds of thousands joined hands to commemorate the proclamation of Ukrainian independence in 1918 and the reunification of Ukrainian lands one year later (1919 Unification Act). On January 23, 1990, the Ukrainian Greek-Catholic Church held its first synod since its liquidation by the Soviets in 1946 (an act which the gathering declared invalid). On February 9, 1990, the Ukrainian Ministry of Justice officially registered Rukh. However, the registration came too late for Rukh to stand its own candidates for the parliamentary and local elections on March 4. At the 1990 elections of people's deputies to the Supreme Council (Verkhovna Rada), candidates from the Democratic Bloc won landslide victories in western Ukrainian oblasts. A majority of the seats had to hold run-off elections. On March 18, Democratic candidates scored further victories in the run-offs. The Democratic Bloc gained about 90 out of 450 seats in the new parliament. \n",
      " <|USER|> When had the Ukrainian Greek-Catholic Church been broken up by the Soviets? \n",
      " <|ASSISTANT|> 1946 </s>\n",
      "<|CONTEXT|> \n",
      " Melbourne is notable as the host city for the 1956 Summer Olympic Games (the first Olympic Games held in the southern hemisphere and Oceania, with all previous games held in Europe and the United States), along with the 2006 Commonwealth Games. Melbourne is so far the southernmost city to host the games. The city is home to three major annual international sporting events: the Australian Open (one of the four Grand Slam tennis tournaments); the Melbourne Cup (horse racing); and the Australian Grand Prix (Formula One). Also, the Australian Masters golf tournament is held at Melbourne since 1979, having been co-sanctioned by the European Tour from 2006 to 2009. Melbourne was proclaimed the \"World's Ultimate Sports City\", in 2006, 2008 and 2010. The city is home to the National Sports Museum, which until 2003 was located outside the members pavilion at the Melbourne Cricket Ground. It reopened in 2008 in the Olympic Stand. \n",
      " <|USER|> In what three years was Melbourne proclaimed the \"World's Ultimate Sports City\"? \n",
      " <|ASSISTANT|> 2006, 2008 and 2010 </s>\n",
      "<|CONTEXT|> \n",
      " Innuendo was released in early 1991 with an eponymous number 1 UK hit and other charting singles including, \"The Show Must Go On\". Mercury was increasingly ill and could barely walk when the band recorded \"The Show Must Go On\" in 1990. Because of this, May had concerns about whether he was physically capable of singing it. Recalling Mercury's successful performance May states; \"he went in and killed it, completely lacerated that vocal\". The rest of the band were ready to record when Mercury felt able to come in to the studio, for an hour or two at a time. May says of Mercury: “He just kept saying. 'Write me more. Write me stuff. I want to just sing this and do it and when I am gone you can finish it off.’ He had no fear, really.” The band's second greatest hits compilation, Greatest Hits II, followed in October 1991, which is the eighth best-selling album of all time in the UK and has sold 16 million copies worldwide. \n",
      " <|USER|> Which band member of Queen was seriously ill in 1991? \n",
      " <|ASSISTANT|> Mercury </s>\n",
      "<|CONTEXT|> \n",
      " Al-Azhar University, founded in Cairo, Egypt in 975 by the Ismaʻīlī Shīʻī Fatimid dynasty as a jāmiʻah, had individual faculties for a theological seminary, Islamic law and jurisprudence, Arabic grammar, Islamic astronomy, early Islamic philosophy and logic in Islamic philosophy. The postgraduate doctorate in law was only obtained after \"an oral examination to determine the originality of the candidate's theses\", and to test the student's \"ability to defend them against all objections, in disputations set up for the purpose.\" ‘Abd al-Laṭīf al-Baghdādī also delivered lectures on Islamic medicine at al-Azhar, while Maimonides delivered lectures on medicine and astronomy there during the time of Saladin. Another early jāmiʻah was the Niẓāmīyah of Baghdād (founded 1091), which has been called the \"largest university of the Medieval world.\" Mustansiriya University, established by the ʻAbbāsid caliph al-Mustanṣir in 1233, in addition to teaching the religious subjects, offered courses dealing with philosophy, mathematics and the natural sciences. \n",
      " <|USER|> When was Al-Azhar University founded? \n",
      " <|ASSISTANT|> 975 </s>\n",
      "<|CONTEXT|> \n",
      " The Battle of Gravelotte, or Gravelotte–St. Privat (18 August), was the largest battle during the Franco-Prussian War. It was fought about 6 miles (9.7 km) west of Metz, where on the previous day, having intercepted the French army's retreat to the west at the Battle of Mars-La-Tour, the Prussians were now closing in to complete the destruction of the French forces. The combined German forces, under Field Marshal Count Helmuth von Moltke, were the Prussian First and Second Armies of the North German Confederation numbering about 210 infantry battalions, 133 cavalry squadrons, and 732 heavy cannons totaling 188,332 officers and men. The French Army of the Rhine, commanded by Marshal François-Achille Bazaine, numbering about 183 infantry battalions, 104 cavalry squadrons, backed by 520 heavy cannons, totaling 112,800 officers and men, dug in along high ground with their southern left flank at the town of Rozerieulles, and their northern right flank at St. Privat. \n",
      " <|USER|> Which battle was considered the biggest in the war? \n",
      " <|ASSISTANT|> The Battle of Gravelotte </s>\n",
      "<|CONTEXT|> \n",
      " In China, a call to boycott French hypermart Carrefour from May 1 began spreading through mobile text messaging and online chat rooms amongst the Chinese over the weekend from April 12, accusing the company's major shareholder, the LVMH Group, of donating funds to the Dalai Lama. There were also calls to extend the boycott to include French luxury goods and cosmetic products. Chinese protesters organized boycotts of the French-owned retail chain Carrefour in major Chinese cities including Kunming, Hefei and Wuhan, accusing the French nation of pro-secessionist conspiracy and anti-Chinese racism. Some burned French flags, some added Swastika (due to its conotaions with Nazism) to the French flag, and spread short online messages calling for large protests in front of French consulates and embassy. Some shoppers who insisted on entering one of the Carrefour stores in Kunming were blocked by boycotters wielding large Chinese flags and hit by water bottles. Hundreds of people joined Anti-French rallies in Beijing, Wuhan, Hefei, Kunming and Qingdao, which quickly spread to other cities like Xi'an, Harbin and Jinan. Carrefour denied any support or involvement in the Tibetan issue, and had its staff in its Chinese stores wear uniforms emblazoned with the Chinese national flag and caps with Olympic insignia and as well as the words \"Beijing 2008\" to show its support for the games. The effort had to be ceased when the BOCOG deemed the use of official Olympic insignia as illegal and a violation of copyright. \n",
      " <|USER|> Who was accused of helping the Dalai Lama? \n",
      " <|ASSISTANT|> LVMH Group </s>\n",
      "<|CONTEXT|> \n",
      " A person can be exposed to uranium (or its radioactive daughters, such as radon) by inhaling dust in air or by ingesting contaminated water and food. The amount of uranium in air is usually very small; however, people who work in factories that process phosphate fertilizers, live near government facilities that made or tested nuclear weapons, live or work near a modern battlefield where depleted uranium weapons have been used, or live or work near a coal-fired power plant, facilities that mine or process uranium ore, or enrich uranium for reactor fuel, may have increased exposure to uranium. Houses or structures that are over uranium deposits (either natural or man-made slag deposits) may have an increased incidence of exposure to radon gas. The Occupational Safety and Health Administration (OSHA) has set the permissible exposure limit for uranium exposure in the workplace as 0.25 mg/m3 over an 8-hour workday. The National Institute for Occupational Safety and Health (NIOSH) has set a recommended exposure limit (REL) of 0.2 mg/m3 over an 8-hour workday and a short-term limit of 0.6 mg/m3. At levels of 10 mg/m3, uranium is immediately dangerous to life and health. \n",
      " <|USER|> At what level of exposure does uranium become imminently dangerous to health? \n",
      " <|ASSISTANT|> 10 mg/m3 </s>\n",
      "<|CONTEXT|> \n",
      " Despite delays in some countries, the number of European HD channels and viewers has risen steadily since the first HDTV broadcasts, with SES's annual Satellite Monitor market survey for 2010 reporting more than 200 commercial channels broadcasting in HD from Astra satellites, 185 million HD capable TVs sold in Europe (£60 million in 2010 alone), and 20 million households (27% of all European digital satellite TV homes) watching HD satellite broadcasts (16 million via Astra satellites). \n",
      " <|USER|> According to the 2010 Satellite Monitor market survey, how many European households were watching HD broadcasts?  \n",
      " <|ASSISTANT|> 20 million </s>\n",
      "<|CONTEXT|> \n",
      " Cubism was relevant to an architecture seeking a style that needed not refer to the past. Thus, what had become a revolution in both painting and sculpture was applied as part of \"a profound reorientation towards a changed world\". The Cubo-Futurist ideas of Filippo Tommaso Marinetti influenced attitudes in avant-garde architecture. The influential De Stijl movement embraced the aesthetic principles of Neo-plasticism developed by Piet Mondrian under the influence of Cubism in Paris. De Stijl was also linked by Gino Severini to Cubist theory through the writings of Albert Gleizes. However, the linking of basic geometric forms with inherent beauty and ease of industrial application—which had been prefigured by Marcel Duchamp from 1914—was left to the founders of Purism, Amédée Ozenfant and Charles-Édouard Jeanneret (better known as Le Corbusier,) who exhibited paintings together in Paris and published Après le cubisme in 1918. Le Corbusier's ambition had been to translate the properties of his own style of Cubism to architecture. Between 1918 and 1922, Le Corbusier concentrated his efforts on Purist theory and painting. In 1922, Le Corbusier and his cousin Jeanneret opened a studio in Paris at 35 rue de Sèvres. His theoretical studies soon advanced into many different architectural projects. \n",
      " <|USER|> The De Stijl movement took part in the aesthetic principles of what? \n",
      " <|ASSISTANT|> Neo-plasticism </s>\n",
      "<|CONTEXT|> \n",
      " The Dutch written grammar has simplified over the past 100 years: cases are now mainly used for the pronouns, such as ik (I), mij, me (me), mijn (my), wie (who), wiens (whose: masculine or neuter singular), wier (whose: feminine singular; masculine, feminine or neuter plural). Nouns and adjectives are not case inflected (except for the genitive of proper nouns (names): -s, -'s or -'). In the spoken language cases and case inflections had already gradually disappeared from a much earlier date on (probably the 15th century) as in many continental West Germanic dialects. \n",
      " <|USER|> Which parts of speech aren't normally case-specific in Dutch? \n",
      " <|ASSISTANT|> Nouns and adjectives </s>\n",
      "<|CONTEXT|> \n",
      " Pulmonary circulation is the part of the circulatory system that carries blood between the heart and lungs (the term pulmonary means “of the lungs”). It is illustrated in Figure below . Deoxygenated blood leaves the right ventricle through pulmonary arteries, which transport it to the lungs. In the lungs, the blood gives up carbon dioxide and picks up oxygen. The oxygenated blood then returns to the left atrium of the heart through pulmonary veins. \n",
      " <|USER|> What gas do the lungs give up as they take in oxygen? \n",
      " <|ASSISTANT|> <|ANSWER_NOT_IN_CONTEXT|> Not answerable. </s>\n",
      "<|CONTEXT|> \n",
      " Critics note that people of color have limited media visibility. The Brazilian media has been accused of hiding or overlooking the nation's Black, Indigenous, Multiracial and East Asian populations. For example, the telenovelas or soaps are criticized for featuring actors who resemble northern Europeans rather than actors of the more prevalent Southern European features) and light-skinned mulatto and mestizo appearance. (Pardos may achieve \"white\" status if they have attained the middle-class or higher social status). \n",
      " <|USER|> Who has accused the media of ignoring blonde Hispanic Americans? \n",
      " <|ASSISTANT|> <|ANSWER_NOT_IN_CONTEXT|> Not answerable. </s>\n",
      "<|CONTEXT|> \n",
      " After the downfall of the prior Gupta Empire in the middle of the 6th century, North India reverted to small republics and small monarchical states ruled by Gupta rulers. Harsha was a convert to Buddhism. He united the small republics from Punjab to central India, and their representatives crowned Harsha king at an assembly in April 606 giving him the title of Maharaja when he was merely 16 years old. Harsha belonged to Kanojia. He brought all of northern India under his control. The peace and prosperity that prevailed made his court a center of cosmopolitanism, attracting scholars, artists and religious visitors from far and wide. The Chinese traveler Xuan Zang visited the court of Harsha and wrote a very favorable account of him, praising his justice and generosity. \n",
      " <|USER|> In what century was Harsha's rule?  \n",
      " <|ASSISTANT|> <|ANSWER_NOT_IN_CONTEXT|> Not answerable. </s>\n",
      "<|CONTEXT|> \n",
      " In March 2001, 40 multi-national pharmaceutical companies brought litigation against South Africa for its Medicines Act, which allowed the generic production of antiretroviral drugs (ARVs) for treating HIV, despite the fact that these drugs were on-patent. HIV was and is an epidemic in South Africa, and ARVs at the time cost between 10,000 and 15,000 USD per patient per year. This was unaffordable for most South African citizens, and so the South African government committed to providing ARVs at prices closer to what people could afford. To do so, they would need to ignore the patents on drugs and produce generics within the country (using a compulsory license), or import them from abroad. After international protest in favour of public health rights (including the collection of 250,000 signatures by MSF), the governments of several developed countries (including The Netherlands, Germany, France, and later the US) backed the South African government, and the case was dropped in April of that year. \n",
      " <|USER|> Who brought litigation to South Africa? \n",
      " <|ASSISTANT|> 40 multi-national pharmaceutical companies </s>\n",
      "<|CONTEXT|> \n",
      " LeGrande writes that \"the formulation of a single all-encompassing definition of the term is extremely difficult, if not impossible. In reviewing the voluminous literature on the subject, the student of civil disobedience rapidly finds himself surrounded by a maze of semantical problems and grammatical niceties. Like Alice in Wonderland, he often finds that specific terminology has no more (or no less) meaning than the individual orator intends it to have.\" He encourages a distinction between lawful protest demonstration, nonviolent civil disobedience, and violent civil disobedience. \n",
      " <|USER|> How much literature has been written regarding civil disobedience? \n",
      " <|ASSISTANT|> Voluminous literature </s>\n",
      "<|CONTEXT|> \n",
      " Wylie asserts that this type of censorship of the History of Ming distorts the true picture of the history of Sino-Tibetan relations, while the Ming court granted titles to various lamas regardless of their sectarian affiliations in an ongoing civil war in Tibet between competing Buddhist factions. Wylie argues that Ming titles of \"King\" granted indiscriminately to various Tibetan lamas or even their disciples should not be viewed as reappointments to earlier Yuan dynasty offices, since the viceregal Sakya regime established by the Mongols in Tibet was overthrown by the Phagmodru myriarchy before the Ming existed. \n",
      " <|USER|> Regardless of their sectarian affiliations, who did the Ming grant titles to? \n",
      " <|ASSISTANT|> Various lamas </s>\n",
      "<|CONTEXT|> \n",
      " Originally, every electronic component had wire leads, and the PCB had holes drilled for each wire of each component. The components' leads were then passed through the holes and soldered to the PCB trace. This method of assembly is called through-hole construction. In 1949, Moe Abramson and Stanislaus F. Danko of the United States Army Signal Corps developed the Auto-Sembly process in which component leads were inserted into a copper foil interconnection pattern and dip soldered. The patent they obtained in 1956 was assigned to the U.S. Army. With the development of board lamination and etching techniques, this concept evolved into the standard printed circuit board fabrication process in use today. Soldering could be done automatically by passing the board over a ripple, or wave, of molten solder in a wave-soldering machine. However, the wires and holes are wasteful since drilling holes is expensive and the protruding wires are merely cut off. \n",
      " <|USER|> Which part of the Auto-Sembly manufacturing process is the most costly? \n",
      " <|ASSISTANT|> Drilling holes </s>\n",
      "<|CONTEXT|> \n",
      " General Dong Zhuo (d. 192 AD) found the young emperor and his brother wandering in the countryside. He escorted them safely back to the capital and was made Minister of Works, taking control of Luoyang and forcing Yuan Shao to flee. After Dong Zhuo demoted Emperor Shao and promoted his brother Liu Xie as Emperor Xian, Yuan Shao led a coalition of former officials and officers against Dong, who burned Luoyang to the ground and resettled the court at Chang'an in May 191 AD. Dong Zhuo later poisoned Emperor Shao. \n",
      " <|USER|> Who had taken control of Luoyang? \n",
      " <|ASSISTANT|> General Dong Zhuo </s>\n",
      "<|CONTEXT|> \n",
      " Soft rock reached its commercial peak in the mid-to-late 1970s with acts such as Toto, England Dan & John Ford Coley, Air Supply, Seals and Crofts, America and the reformed Fleetwood Mac, whose Rumours (1977) was the best-selling album of the decade. By 1977, some radio stations, like New York's WTFM and NBC-owned WYNY, had switched to an all-soft rock format. By the 1980s, tastes had changed and radio formats reflected this change, including musical artists such as Journey. Walter Sabo and his team at NBC brought in major personalities from the AM Band to the FM Band taking the format from a background to a foreground listening experience. The addition of major radio stars such as Dan Daniel, Steve O'Brien, Dick Summers, Don Bleu and Tom Parker made it possible to fully monetize the format and provide the foundation for financial success enjoyed to this day \n",
      " <|USER|> What artist released the best selling album of the 1970s? \n",
      " <|ASSISTANT|> Fleetwood Mac </s>\n",
      "<|CONTEXT|> \n",
      " In 361, after the death of Emperor Constantius, shortly followed by the murder of the very unpopular Bishop George, Athanasius returned to his patriarchate. The following year he convened a council at Alexandria, and presided over it with Eusebius of Vercelli. Athanasius appealed for unity among all those who had faith in Christianity, even if they differed on matters of terminology. This prepared the groundwork for his definition of the orthodox doctrine of the Trinity. However, the council also was directed against those who denied the divinity of the Holy Spirit, the human soul of Christ, and Christ's divinity. Mild measures were agreed on for those heretic bishops who repented, but severe penance was decreed for the chief leaders of the major heresies. \n",
      " <|USER|> When did Athanasius return to his position as Patriarch? \n",
      " <|ASSISTANT|> After the death of Emperor Constantius </s>\n",
      "<|CONTEXT|> \n",
      " Luther's 1524 creedal hymn \"Wir glauben all an einen Gott\" (\"We All Believe in One True God\") is a three-stanza confession of faith prefiguring Luther's 1529 three-part explanation of the Apostles' Creed in the Small Catechism. Luther's hymn, adapted and expanded from an earlier German creedal hymn, gained widespread use in vernacular Lutheran liturgies as early as 1525. Sixteenth-century Lutheran hymnals also included \"Wir glauben all\" among the catechetical hymns, although 18th-century hymnals tended to label the hymn as Trinitarian rather than catechetical, and 20th-century Lutherans rarely use the hymn because of the perceived difficulty of its tune. \n",
      " <|USER|> What did this hymn presage? \n",
      " <|ASSISTANT|> Apostles' Creed </s>\n",
      "<|CONTEXT|> \n",
      " Prior to the 2011–2012 season, Barcelona had a long history of avoiding corporate sponsorship on the playing shirts. On 14 July 2006, the club announced a five-year agreement with UNICEF, which includes having the UNICEF logo on their shirts. The agreement had the club donate €1.5 million per year to UNICEF (0.7 percent of its ordinary income, equal to the UN International Aid Target, cf. ODA) via the FC Barcelona Foundation. The FC Barcelona Foundation is an entity set up in 1994 on the suggestion of then-chairman of the Economical-Statutory Committee, Jaime Gil-Aluja. The idea was to set up a foundation that could attract financial sponsorships to support a non-profit sport company. In 2004, a company could become one of 25 \"Honorary members\" by contributing between £40,000–60,000 (£54,800–82,300) per year. There are also 48 associate memberships available for an annual fee of £14,000 (£19,200) and an unlimited number of \"patronages\" for the cost of £4,000 per year (£5,500). It is unclear whether the honorary members have any formal say in club policy, but according to the author Anthony King, it is \"unlikely that Honorary Membership would not involve at least some informal influence over the club\". \n",
      " <|USER|> How much does Barcelona donate to UNICEF per year? \n",
      " <|ASSISTANT|> €1.5 million </s>\n",
      "<|CONTEXT|> \n",
      " The anterior pituitary produces six hormones: growth hormone, prolactin, thyroid-stimulating hormone, adrenocorticotropic hormone, follicle-stimulating hormone, and luteinizing hormone. Growth hormone stimulates cellular activities like protein synthesis that promote growth. Prolactin stimulates the production of milk by the mammary glands. The other hormones produced by the anterior pituitary regulate the production of hormones by other endocrine tissues (Table 16.1). \n",
      " <|USER|> The anterior pituitary produces seven different what, each with a special function? \n",
      " <|ASSISTANT|> <|ANSWER_NOT_IN_CONTEXT|> Not answerable. </s>\n",
      "<|CONTEXT|> \n",
      " During World War II, San Diego became a major hub of military and defense activity, due to the presence of so many military installations and defense manufacturers. The city's population grew rapidly during and after World War II, more than doubling between 1930 (147,995) and 1950 (333,865). During the final months of the war, the Japanese had a plan to target multiple U.S. cities for biological attack, starting with San Diego. The plan was called \"Operation Cherry Blossoms at Night\" and called for kamikaze planes filled with fleas infected with plague (Yersinia pestis) to crash into civilian population centers in the city, hoping to spread plague in the city and effectively kill tens of thousands of civilians. The plan was scheduled to launch on September 22, 1945, but was not carried out because Japan surrendered five weeks earlier. \n",
      " <|USER|> How many civilians were the Japanese hoping to kill during their planned attack on San Diego? \n",
      " <|ASSISTANT|> Tens of thousands of civilians </s>\n",
      "<|CONTEXT|> \n",
      " Modern-day Nigeria has been the site of numerous kingdoms and tribal states over the millennia. The modern state originated from British colonial rule beginning in the 19th century, and the merging of the Southern Nigeria Protectorate and Northern Nigeria Protectorate in 1914. The British set up administrative and legal structures whilst practising indirect rule through traditional chiefdoms. Nigeria became a formally independent federation in 1960, and plunged into a civil war from 1967 to 1970. It has since alternated between democratically-elected civilian governments and military dictatorships, until it achieved a stable democracy in 1999, with its 2011 presidential elections being viewed as the first to be conducted reasonably freely and fairly. \n",
      " <|USER|> When did the Southern and Northern Nigeria Protectorates merge? \n",
      " <|ASSISTANT|> 1914 </s>\n",
      "<|CONTEXT|> \n",
      " Early-years education is quite common in Thuringia. Since the 1950s, nearly all children have been using the service, whereas early-years education is less developed in western Germany. Its inventor Friedrich Fröbel lived in Thuringia and founded the world's first Kindergartens there in the 19th century. The Thuringian primary school takes four years and most primary schools are all-day schools offering optional extracurricular activities in the afternoon. At the age of ten, pupils are separated according to aptitude and proceed to either the Gymnasium or the Regelschule. The former leads to the Abitur exam after a further eight years and prepares for higher education, while the latter has a more vocational focus and finishes with exams after five or six years, comparable to the Hauptschule and Realschule found elsewhere in Germany. \n",
      " <|USER|> When do children graduate from primary school in Thuringia? \n",
      " <|ASSISTANT|> At the age of ten </s>\n",
      "<|CONTEXT|> \n",
      " One hundred years after the fall of Constantinople in 1453, Pierre Belon described in his work Observations in 1553 that pissasphalto, a mixture of pitch and bitumen, was used in Dubrovnik for tarring of ships from where it was exported to a market place in Venice where it could be bought by anyone. An 1838 edition of Mechanics Magazine cites an early use of asphalt in France. A pamphlet dated 1621, by \"a certain Monsieur d'Eyrinys, states that he had discovered the existence (of asphaltum) in large quantities in the vicinity of Neufchatel\", and that he proposed to use it in a variety of ways – \"principally in the construction of air-proof granaries, and in protecting, by means of the arches, the water-courses in the city of Paris from the intrusion of dirt and filth\", which at that time made the water unusable. \"He expatiates also on the excellence of this material for forming level and durable terraces\" in palaces, \"the notion of forming such terraces in the streets not one likely to cross the brain of a Parisian of that generation\". But it was generally neglected in France until the revolution of 1830. Then, in the 1830s, there was a surge of interest, and asphalt became widely used \"for pavements, flat roofs, and the lining of cisterns, and in England, some use of it had been made of it for similar purposes\". Its rise in Europe was \"a sudden phenomenon\", after natural deposits were found \"in France at Osbann (BasRhin), the Parc (l'Ain) and the Puy-de-la-Poix (Puy-de-Dome)\", although it could also be made artificially. One of the earliest uses in France was the laying of about 24,000 square yards of Seyssel asphalt at the Place de la Concorde in 1835. \n",
      " <|USER|> In what places were asphalt used as soundproofing? \n",
      " <|ASSISTANT|> <|ANSWER_NOT_IN_CONTEXT|> Not answerable. </s>\n",
      "<|CONTEXT|> \n",
      " The sales breakdown of the Macintosh have seen sales of desktop Macs stayed mostly constant while being surpassed by that of Mac notebooks whose sales rate has grown considerably; seven out of ten Macs sold were laptops in 2009, a ratio projected to rise to three out of four by 2010. The change in sales of form factors is due to the desktop iMac moving from affordable (iMac G3) to upscale (iMac G4) and subsequent releases are considered premium all-in-ones. By contrast the MSRP of the MacBook laptop lines have dropped through successive generations such that the MacBook Air and MacBook Pro constitute the lowest price of entry to a Mac, with the exception of the even more inexpensive Mac Mini (the only sub-$1000 offering from Apple, albeit without a monitor and keyboard), not surprisingly the MacBooks are the top-selling form factors of the Macintosh platform today. The use of Intel microprocessors has helped Macs more directly compete with their Windows counterparts on price and performance, and by the 2010s Apple was receiving Intel's latest CPUs first before other PC manufacturers. \n",
      " <|USER|> In 2009, how many Macs sold were laptops? \n",
      " <|ASSISTANT|> Seven out of ten </s>\n",
      "<|CONTEXT|> \n",
      " The American studies program reflected the worldwide anti-Communist ideological struggle. Norman Holmes Pearson, who worked for the Office of Strategic Studies in London during World War II, returned to Yale and headed the new American studies program, in which scholarship quickly became an instrument of promoting liberty. Popular among undergraduates, the program sought to instruct them in the fundamentals of American civilization and thereby instill a sense of nationalism and national purpose. Also during the 1940s and 1950s, Wyoming millionaire William Robertson Coe made large contributions to the American studies programs at Yale University and at the University of Wyoming. Coe was concerned to celebrate the 'values' of the Western United States in order to meet the \"threat of communism.\" \n",
      " <|USER|> Who was the first professor for the American studies program? \n",
      " <|ASSISTANT|> Norman Holmes Pearson </s>\n",
      "<|CONTEXT|> \n",
      " Norfolk Island (i/ˈnɔːrfək ˈaɪlənd/; Norfuk: Norf'k Ailen) is a small island in the Pacific Ocean located between Australia, New Zealand and New Caledonia, 1,412 kilometres (877 mi) directly east of mainland Australia's Evans Head, and about 900 kilometres (560 mi) from Lord Howe Island. The island is part of the Commonwealth of Australia. Together with two neighbouring islands, it forms one of Australia's external territories. It has 1,796 inhabitants living on a total area of about 35 km2 (14 sq mi). Its capital is Kingston. \n",
      " <|USER|> What is the capital city of Norfolk Island? \n",
      " <|ASSISTANT|> Kingston </s>\n",
      "<|CONTEXT|> \n",
      " Electromagnetic radiation from the sun reaches Earth across space. It strikes everything on Earth’s surface, including these volleyball players. \n",
      " <|USER|> What type of radiation from the sun reaches earth across space striking everything on earth’s surface? \n",
      " <|ASSISTANT|> Electromagnetic </s>\n",
      "<|CONTEXT|> \n",
      " The phonautograph, patented by Léon Scott in 1857, used a vibrating diaphragm and stylus to graphically record sound waves as tracings on sheets of paper, purely for visual analysis and without any intent of playing them back. In the 2000s, these tracings were first scanned by audio engineers and digitally converted into audible sound. Phonautograms of singing and speech made by Scott in 1860 were played back as sound for the first time in 2008. Along with a tuning fork tone and unintelligible snippets recorded as early as 1857, these are the earliest known recordings of sound. \n",
      " <|USER|> In what years where phonautograms converted to audible sound? \n",
      " <|ASSISTANT|> 2000s </s>\n",
      "<|CONTEXT|> \n",
      " Religious festivals include Diwali (the festival of light), Maha Shivaratri, Teej, Guru Nanak Jayanti, Baisakhi, Durga Puja, Holi, Lohri, Eid ul-Fitr, Eid ul-Adha, Christmas, Chhath Puja and Mahavir Jayanti. The Qutub Festival is a cultural event during which performances of musicians and dancers from all over India are showcased at night, with the Qutub Minar as the chosen backdrop of the event. Other events such as Kite Flying Festival, International Mango Festival and Vasant Panchami (the Spring Festival) are held every year in Delhi. \n",
      " <|USER|> What is the name of the fruit related festival held annually in Delhi? \n",
      " <|ASSISTANT|> International Mango Festival </s>\n",
      "<|CONTEXT|> \n",
      " Hunter-gatherers would eventually flourish all over the Americas, primarily based in the Great Plains of the United States and Canada, with offshoots as far east as the Gaspé Peninsula on the Atlantic coast, and as far south as Chile, Monte Verde.[citation needed] American hunter-gatherers were spread over a wide geographical area, thus there were regional variations in lifestyles. However, all the individual groups shared a common style of stone tool production, making knapping styles and progress identifiable. This early Paleo-Indian period lithic reduction tool adaptations have been found across the Americas, utilized by highly mobile bands consisting of approximately 25 to 50 members of an extended family. \n",
      " <|USER|> What is it about the tool styles that is remarkable? \n",
      " <|ASSISTANT|> Common style </s>\n",
      "<|CONTEXT|> \n",
      " The first union was built on campus in 1926 as a campus community center. The unions are still the \"living rooms\" of campus today and include three locations – the Kansas Union and Burge Union at the Lawrence Campus and Jayhawk Central at the Edwards Campus. The KU Memorial Unions Corporation manages the KU Bookstore (with seven locations). The KU Bookstore is the official bookstore of KU. The Corporation also includes KU Dining Services, with more than 20 campus locations, including The Market (inside the Kansas Union) and The Underground (located in Wescoe Hall). The KU Bookstore and KU Dining Services are not-for-profit, with proceeds going back to support student programs, such as Student Union Activities. \n",
      " <|USER|> When was KU's first student union constructed? \n",
      " <|ASSISTANT|> 1926 </s>\n",
      "<|CONTEXT|> \n",
      " The fatty material inside the artery on the right is plaque. Notice how much narrower the artery has become. Less blood can flow through it than the normal artery. \n",
      " <|USER|> What fatty material inside arteries can restrict blood flow in the artery? \n",
      " <|ASSISTANT|> Plaque </s>\n",
      "<|CONTEXT|> \n",
      " According to a 2007 BSA and International Data Corporation (IDC) study, the five countries with the highest rates of software piracy were: 1. Armenia (93%); 2. Bangladesh (92%); 3. Azerbaijan (92%); 4. Moldova (92%); and 5. Zimbabwe (91%). According to the study's results, the five countries with the lowest piracy rates were: 1. U.S. (20%); 2. Luxembourg (21%); 3. New Zealand (22%); 4. Japan (23%); and 5. Austria (25%). The 2007 report showed that the Asia-Pacific region was associated with the highest amount of loss, in terms of U.S. dollars, with $14,090,000, followed by the European Union, with a loss of $12,383,000; the lowest amount of U.S. dollars was lost in the Middle East/Africa region, where $2,446,000 was documented. \n",
      " <|USER|> Which region had the highest loss? \n",
      " <|ASSISTANT|> Asia-Pacific </s>\n",
      "<|CONTEXT|> \n",
      " Beyoncé's work has influenced numerous artists including Adele, Ariana Grande, Lady Gaga, Bridgit Mendler, Rihanna, Kelly Rowland, Sam Smith, Meghan Trainor, Nicole Scherzinger, Rita Ora, Zendaya, Cheryl Cole, JoJo, Alexis Jordan, Jessica Sanchez, and Azealia Banks. American indie rock band White Rabbits also cited her an inspiration for their third album Milk Famous (2012), friend Gwyneth Paltrow studied Beyoncé at her live concerts while learning to become a musical performer for the 2010 film Country Strong. Nicki Minaj has stated that seeing Beyoncé's Pepsi commercial influenced her decision to appear in the company's 2012 global campaign. \n",
      " <|USER|> What about Beyonce has influenced many entertainers? \n",
      " <|ASSISTANT|> Work </s>\n",
      "<|CONTEXT|> \n",
      " The process in which organ systems work to maintain a stable internal environment is called homeostasis. Keeping a stable internal environment requires constant adjustments. Here are just three of the many ways that human organ systems help the body maintain homeostasis:. \n",
      " <|USER|> What is the process in which organ systems work to maintain a stable internal environment? \n",
      " <|ASSISTANT|> Homeostasis </s>\n",
      "<|CONTEXT|> \n",
      " Initially, officials were unable to contact the Wolong National Nature Reserve, home to around 280 giant pandas. However, the Foreign Ministry later said that a group of 31 British tourists visiting the Wolong Panda Reserve in the quake-hit area returned safe and uninjured to Chengdu. Nonetheless, the well-being of an even greater number of pandas in the neighbouring panda reserves remained unknown. Five security guards at the reserve were killed by the earthquake. Six pandas escaped after their enclosures were damaged. By May 20, two pandas at the reserve were found to be injured, while the search continued for another two adult pandas that went missing after the quake. By May 28, 2008, one panda was still missing. The missing panda was later found dead under the rubble of an enclosure. Nine-year-old Mao Mao, a mother of five at the breeding center, was discovered on Monday, her body crushed by a wall in her enclosure. Panda keepers and other workers placed her remains in a small wooden crate and buried her outside the breeding centre. \n",
      " <|USER|> How many pandas were injured? \n",
      " <|ASSISTANT|> 2 </s>\n",
      "<|CONTEXT|> \n",
      " The Virgin birth of Jesus was an almost universally held belief among Christians from the 2nd until the 19th century. It is included in the two most widely used Christian creeds, which state that Jesus \"was incarnate of the Holy Spirit and the Virgin Mary\" (the Nicene Creed in what is now its familiar form) and the Apostles' Creed. The Gospel of Matthew describes Mary as a virgin who fulfilled the prophecy of Isaiah 7:14, mistranslating the Hebrew word alma (\"young woman\") in Isaiah 7:14 as \"virgin\", though.[citation needed] The authors of the Gospels of Matthew and Luke consider Jesus' conception not the result of intercourse and assert that Mary had \"no relations with man\" before Jesus' birth.[Mt 1:18] [Mt 1:25] [Lk 1:34] This alludes to the belief that Mary conceived Jesus through the action of God the Holy Spirit, and not through intercourse with Joseph or anyone else. \n",
      " <|USER|> What Hebrew word is used to describe Mary in Isaiah 7:14? \n",
      " <|ASSISTANT|> Alma </s>\n",
      "<|CONTEXT|> \n",
      " Performers who have studied classical music extensively are said to be \"classically trained\". This training may be from private lessons from instrument or voice teachers or from completion of a formal program offered by a Conservatory, college or university, such as a B.mus. or M.mus. degree (which includes individual lessons from professors). In classical music, \"...extensive formal music education and training, often to postgraduate [Master's degree] level\" is required. \n",
      " <|USER|> To what level is training for classical music often required? \n",
      " <|ASSISTANT|> Postgraduate </s>\n",
      "<|CONTEXT|> \n",
      " In the course of this religious upheaval, the German Peasants' War of 1524–25 swept through the Bavarian, Thuringian and Swabian principalities. After the Eighty Years' War in the Low Countries and the French Wars of Religion, the confessional division of the states of the Holy Roman Empire eventually erupted in the Thirty Years' War between 1618 and 1648. It devastated much of Germany, killing between 25% and 40% of its population. The main tenets of the Peace of Westphalia, which ended the Thirty Years' War, were: \n",
      " <|USER|> When was the German Peasants' War? \n",
      " <|ASSISTANT|> 1524–25 </s>\n",
      "<|CONTEXT|> \n",
      " On 14 June 1925, in a spontaneous reaction against Primo de Rivera's dictatorship, the crowd in the stadium jeered the Royal March. As a reprisal, the ground was closed for six months and Gamper was forced to relinquish the presidency of the club. This coincided with the transition to professional football, and, in 1926, the directors of Barcelona publicly claimed, for the first time, to operate a professional football club. On 3 July 1927, the club held a second testimonial match for Paulino Alcántara, against the Spanish national team. To kick off the match, local journalist and pilot Josep Canudas dropped the ball onto the pitch from his airplane. In 1928, victory in the Spanish Cup was celebrated with a poem titled \"Oda a Platko\", which was written by a member of the Generation of '27, Rafael Alberti, inspired by the heroic performance of the Barcelona goalkeeper, Franz Platko. On 23 June 1929, Barcelona won the inaugural Spanish League. A year after winning the championship, on 30 July 1930, Gamper committed suicide after a period of depression brought on by personal and financial problems. \n",
      " <|USER|> When did Joan Gamper become the president of the Barcelona club? \n",
      " <|ASSISTANT|> <|ANSWER_NOT_IN_CONTEXT|> Not answerable. </s>\n",
      "<|CONTEXT|> \n",
      " The Alaska Constitution was written so as to discourage dedicating state funds for a particular purpose. The Permanent Fund has become the rare exception to this, mostly due to the political climate of distrust existing during the time of its creation. From its initial principal of $734,000, the fund has grown to $50 billion as a result of oil royalties and capital investment programs. Most if not all the principal is invested conservatively outside Alaska. This has led to frequent calls by Alaskan politicians for the Fund to make investments within Alaska, though such a stance has never gained momentum. \n",
      " <|USER|> Was Alaska's Constitution written to encourage or discourage state funds being used for a particular purpose? \n",
      " <|ASSISTANT|> Discourage </s>\n",
      "<|CONTEXT|> \n",
      " The Wayback Machine is a digital archive of the World Wide Web and other information on the Internet created by the Internet Archive, a nonprofit organization, based in San Francisco, California, United States. It was set up by Brewster Kahle and Bruce Gilliat, and is maintained with content from Alexa Internet. The service enables users to see archived versions of web pages across time, which the archive calls a \"three dimensional index.\" \n",
      " <|USER|> What is the term used by Internet Archive to describe the Wayback Machine? \n",
      " <|ASSISTANT|> Three dimensional index </s>\n",
      "<|CONTEXT|> \n",
      " According to PolitiFact the top 400 richest Americans \"have more wealth than half of all Americans combined.\" According to the New York Times on July 22, 2014, the \"richest 1 percent in the United States now own more wealth than the bottom 90 percent\". Inherited wealth may help explain why many Americans who have become rich may have had a \"substantial head start\". In September 2012, according to the Institute for Policy Studies, \"over 60 percent\" of the Forbes richest 400 Americans \"grew up in substantial privilege\". \n",
      " <|USER|> How many Americans are richer than more than half of all citizens? \n",
      " <|ASSISTANT|> 400 </s>\n",
      "<|CONTEXT|> \n",
      " In December 1547, Francis was in Malacca (Malaysia) waiting to return to Goa (India) when he met a low-ranked samurai named Anjiro (possibly spelled \"Yajiro\"). Anjiro was not an intellectual, but he impressed Xavier because he took careful notes of everything he said in church. Xavier made the decision to go to Japan in part because this low-ranking samurai convinced him in Portuguese that the Japanese people were highly educated and eager to learn. They were hard workers and respectful of authority. In their laws and customs they were led by reason, and, should the Christian faith convince them of its truth, they would accept it en masse. \n",
      " <|USER|> Who impressed Xavier by taking notes in church? \n",
      " <|ASSISTANT|> Anjiro </s>\n",
      "<|CONTEXT|> \n",
      " Nociceptive pain may also be divided into \"visceral\", \"deep somatic\" and \"superficial somatic\" pain. Visceral structures are highly sensitive to stretch, ischemia and inflammation, but relatively insensitive to other stimuli that normally evoke pain in other structures, such as burning and cutting. Visceral pain is diffuse, difficult to locate and often referred to a distant, usually superficial, structure. It may be accompanied by nausea and vomiting and may be described as sickening, deep, squeezing, and dull. Deep somatic pain is initiated by stimulation of nociceptors in ligaments, tendons, bones, blood vessels, fasciae and muscles, and is dull, aching, poorly-localized pain. Examples include sprains and broken bones. Superficial pain is initiated by activation of nociceptors in the skin or other superficial tissue, and is sharp, well-defined and clearly located. Examples of injuries that produce superficial somatic pain include minor wounds and minor (first degree) burns. \n",
      " <|USER|> Which type of pain is dull, aching and hard to pin-point? \n",
      " <|ASSISTANT|> Deep somatic </s>\n",
      "<|CONTEXT|> \n",
      " The 1960s would be marked by the rise of family-oriented series in an attempt by ABC to counterprogram its established competitors, but the decade was also marked by the network's gradual transition to color. On September 30, 1960, ABC premiered The Flintstones, another example of counterprogramming; although the animated series from William Hanna and Joseph Barbera was filmed in color from the beginning, it was initially broadcast in black-and-white, as ABC had not made the necessary technical upgrades to broadcast its programming in color at the time. The Flintstones allowed ABC to present a novelty, that of prime-time animated programming, but it also allowed the network to begin filling the hole opened by the conclusion of the Disney partnership by carrying family-oriented programming from other producers. \n",
      " <|USER|> What decade marked ABC's transition to color programming? \n",
      " <|ASSISTANT|> 1960s </s>\n",
      "<|CONTEXT|> \n",
      " The National Archives Building, known informally as Archives I, located north of the National Mall on Constitution Avenue in Washington, D.C., opened as its original headquarters in 1935. It holds the original copies of the three main formative documents of the United States and its government: the Declaration of Independence, the Constitution, and the Bill of Rights. It also hosts a copy of the 1297 Magna Carta confirmed by Edward I. These are displayed to the public in the main chamber of the National Archives, which is called the Rotunda for the Charters of Freedom. The National Archives Building also exhibits other important American historical documents such as the Louisiana Purchase Treaty, the Emancipation Proclamation, and collections of photography and other historically and culturally significant American artifacts. \n",
      " <|USER|> Where is the Louisiana Purchase Treaty kept? \n",
      " <|ASSISTANT|> The National Archives Building </s>\n",
      "<|CONTEXT|> \n",
      " In 2005, Apple faced two lawsuits claiming patent infringement by the iPod line and its associated technologies: Advanced Audio Devices claimed the iPod line breached its patent on a \"music jukebox\", while a Hong Kong-based IP portfolio company called Pat-rights filed a suit claiming that Apple's FairPlay technology breached a patent issued to inventor Ho Keung Tse. The latter case also includes the online music stores of Sony, RealNetworks, Napster, and Musicmatch as defendants. \n",
      " <|USER|> Which Apple technology did Pat-rights complain breached their patent in a lawsuit? \n",
      " <|ASSISTANT|> FairPlay </s>\n",
      "<|CONTEXT|> \n",
      " From 1889, when Guangxu began to rule in his own right, to 1898, the Empress Dowager lived in semi-retirement, spending the majority of the year at the Summer Palace. On November 1, 1897, two German Roman Catholic missionaries were murdered in the southern part of Shandong Province (the Juye Incident). In response, Germany used the murders as a pretext for a naval occupation of Jiaozhou Bay. The occupation prompted a \"scramble for concessions\" in 1898, which included the German lease of Jiazhou Bay, the Russian acquisition of Liaodong, and the British lease of the New Territories of Hong Kong. \n",
      " <|USER|> When were two missionaries killed? \n",
      " <|ASSISTANT|> November 1, 1897, </s>\n",
      "<|CONTEXT|> \n",
      " While the notion that structural and aesthetic considerations should be entirely subject to functionality was met with both popularity and skepticism, it had the effect of introducing the concept of \"function\" in place of Vitruvius' \"utility\". \"Function\" came to be seen as encompassing all criteria of the use, perception and enjoyment of a building, not only practical but also aesthetic, psychological and cultural. \n",
      " <|USER|> What were the reactions to the idea that function should come before other concerns? \n",
      " <|ASSISTANT|> Both popularity and skepticism </s>\n",
      "<|CONTEXT|> \n",
      " These products include glued laminated timber (glulam), wood structural panels (including plywood, oriented strand board and composite panels), laminated veneer lumber (LVL) and other structural composite lumber (SCL) products, parallel strand lumber, and I-joists. Approximately 100 million cubic meters of wood was consumed for this purpose in 1991. The trends suggest that particle board and fiber board will overtake plywood. \n",
      " <|USER|> If current building trends continue, what material will be replaced by particle and fiber board? \n",
      " <|ASSISTANT|> Plywood </s>\n",
      "<|CONTEXT|> \n",
      " As of the census of 2010, there were 520,116 people, 229,762 households, and 112,455 families residing in the city. The population density was 2,500.1 inhabitants per square mile (965.3/km²). There were 209,609 housing units at an average density of 1,076.7 per square mile (415.7/km²). The racial makeup of the city was 69.7% White (down from 94.8% in 1970), 5.0% Black or African-American, 2.7% Native American, 2.9% Asian, 0.2% Pacific Islander, 16.9% from other races, and 3.8% from two or more races. Hispanic or Latino of any race were 41.6% of the population. Non-Hispanic Whites were 47.2% of the population in 2010, down from 72.8% in 1970. \n",
      " <|USER|> How many families are there in Tucson as of 2010? \n",
      " <|ASSISTANT|> 112,455 </s>\n",
      "<|CONTEXT|> \n",
      " The British Isles are a group of islands off the north-western coast of continental Europe that consist of the islands of Great Britain, Ireland and over six thousand smaller isles. Situated in the North Atlantic, the islands have a total area of approximately 315,159 km2, and a combined population of just under 70 million. Two sovereign states are located on the islands: Ireland (which covers roughly five-sixths of the island with the same name) and the United Kingdom of Great Britain and Northern Ireland. The British Isles also include three Crown Dependencies: the Isle of Man and, by tradition, the Bailiwick of Jersey and the Bailiwick of Guernsey in the Channel Islands, although the latter are not physically a part of the archipelago. \n",
      " <|USER|> Where are the Bailiwick of Jersey and the Bailiwick of Guernsey located? \n",
      " <|ASSISTANT|> In the Channel Islands </s>\n",
      "<|CONTEXT|> \n",
      " The changes included a new corporate color palette, small modifications to the GE logo, a new customized font (GE Inspira) and a new slogan, \"Imagination at work\", composed by David Lucas, to replace the slogan \"We Bring Good Things to Life\" used since 1979. The standard requires many headlines to be lowercased and adds visual \"white space\" to documents and advertising. The changes were designed by Wolff Olins and are used on GE's marketing, literature and website. In 2014, a second typeface family was introduced: GE Sans and Serif by Bold Monday created under art direction by Wolff Olins. \n",
      " <|USER|> Who composed GE's slogan \"Imagination at work?\"? \n",
      " <|ASSISTANT|> David Lucas </s>\n",
      "<|CONTEXT|> \n",
      " The Pyx Chamber formed the undercroft of the monks' dormitory. It dates to the late 11th century and was used as a monastic and royal treasury. The outer walls and circular piers are of 11th-century date, several of the capitals were enriched in the 12th century and the stone altar added in the 13th century. The term pyx refers to the boxwood chest in which coins were held and presented to a jury during the Trial of the Pyx, in which newly minted coins were presented to ensure they conformed to the required standards. \n",
      " <|USER|> What formed the undercroft of the monks' dormitory? \n",
      " <|ASSISTANT|> The Pyx Chamber </s>\n",
      "<|CONTEXT|> \n",
      " On 1 August, the British fleet under Horatio Nelson captured or destroyed all but two French vessels in the Battle of the Nile, defeating Bonaparte's goal to strengthen the French position in the Mediterranean. His army had succeeded in a temporary increase of French power in Egypt, though it faced repeated uprisings. In early 1799, he moved an army into the Ottoman province of Damascus (Syria and Galilee). Bonaparte led these 13,000 French soldiers in the conquest of the coastal towns of Arish, Gaza, Jaffa, and Haifa. The attack on Jaffa was particularly brutal. Bonaparte discovered that many of the defenders were former prisoners of war, ostensibly on parole, so he ordered the garrison and 1,400 prisoners to be executed by bayonet or drowning to save bullets. Men, women, and children were robbed and murdered for three days. \n",
      " <|USER|> During the battles in Damascus, the attack on which city was know for its brutality? \n",
      " <|ASSISTANT|> Jaffa </s>\n",
      "<|CONTEXT|> \n",
      " German cinema dates back to the very early years of the medium with the work of Max Skladanowsky. It was particularly influential during the years of the Weimar Republic with German expressionists such as Robert Wiene and Friedrich Wilhelm Murnau. The Nazi era produced mostly propaganda films although the work of Leni Riefenstahl still introduced new aesthetics in film. From the 1960s, New German Cinema directors such as Volker Schlöndorff, Werner Herzog, Wim Wenders, Rainer Werner Fassbinder placed West-German cinema back onto the international stage with their often provocative films, while the Deutsche Film-Aktiengesellschaft controlled film production in the GDR. \n",
      " <|USER|> Who was the original German cinematic? \n",
      " <|ASSISTANT|> Max Skladanowsky </s>\n",
      "<|CONTEXT|> \n",
      " Nanjing is an important railway hub in eastern China. It serves as rail junction for the Beijing-Shanghai (Jinghu) (which is itself composed of the old Jinpu and Huning Railways), Nanjing–Tongling Railway (Ningtong), Nanjing–Qidong (Ningqi), and the Nanjing-Xian (Ningxi) which encompasses the Hefei–Nanjing Railway. Nanjing is connected to the national high-speed railway network by Beijing–Shanghai High-Speed Railway and Shanghai–Wuhan–Chengdu Passenger Dedicated Line, with several more high-speed rail lines under construction. \n",
      " <|USER|> What are the three types of transport in Nanjing? \n",
      " <|ASSISTANT|> <|ANSWER_NOT_IN_CONTEXT|> Not answerable. </s>\n",
      "<|CONTEXT|> \n",
      " Tito's foreign policy led to relationships with a variety of governments, such as exchanging visits (1954 and 1956) with Emperor Haile Selassie of Ethiopia, where a street was named in his honor. \n",
      " <|USER|> When did Tito last visit Emperor Selassie? \n",
      " <|ASSISTANT|> 1956 </s>\n",
      "<|CONTEXT|> \n",
      " In 1260, control passed to the Mamluk sultans of Egypt. The country was located between the two centres of Mamluk power, Cairo and Damascus, and only saw some development along the postal road connecting the two cities. Jerusalem, although left without the protection of any city walls since 1219, also saw a flurry of new construction projects centred around the Al-Aqsa Mosque compound (the Temple Mount). In 1266 the Mamluk Sultan Baybars converted the Cave of the Patriarchs in Hebron into an exclusive Islamic sanctuary and banned Christians and Jews from entering, which previously would be able to enter it for a fee. The ban remained in place until Israel took control of the building in 1967. \n",
      " <|USER|> When was control passed to the Mamluk sultans of Egypt? \n",
      " <|ASSISTANT|> 1260 </s>\n",
      "<|CONTEXT|> \n",
      " Inductive reasoning is the process of drawing general conclusions based on many pieces of evidence. This type of reasoning is the basis of the scientific method. \n",
      " <|USER|> Reaching conclusions about unobserved things on the basis of what has already been observed is known as what kind of reasoning? \n",
      " <|ASSISTANT|> <|ANSWER_NOT_IN_CONTEXT|> Not answerable. </s>\n",
      "<|CONTEXT|> \n",
      " The Directorate of Operations is responsible for collecting foreign intelligence, mainly from clandestine HUMINT sources, and covert action. The name reflects its role as the coordinator of human intelligence activities among other elements of the wider U.S. intelligence community with their own HUMINT operations. This Directorate was created in an attempt to end years of rivalry over influence, philosophy and budget between the United States Department of Defense (DOD) and the CIA. In spite of this, the Department of Defense recently organized its own global clandestine intelligence service, the Defense Clandestine Service (DCS), under the Defense Intelligence Agency (DIA). \n",
      " <|USER|> What is the main reason the Directorate of Operations was created? \n",
      " <|ASSISTANT|> To end years of rivalry </s>\n",
      "<|CONTEXT|> \n",
      " Between AD 300 and 1300 in the northern part of the state along the wide, fertile valley on the San Miguel River the Casas Grandes (Big Houses) culture developed into an advanced civilization. The Casas Grandes civilization is part of a major prehistoric archaeological culture known as Mogollon which is related to the Ancestral Pueblo culture. Paquime was the center of the Casas Grandes civilization. Extensive archaeological evidence shows commerce, agriculture, and hunting at Paquime and Cuarenta Casas (Forty Houses). \n",
      " <|USER|> What city was the center of the Casas Grandes civilization? \n",
      " <|ASSISTANT|> Paquime </s>\n",
      "<|CONTEXT|> \n",
      " Buddhism /ˈbudɪzəm/ is a nontheistic religion[note 1] or philosophy (Sanskrit: धर्म dharma; Pali: धम्म dhamma) that encompasses a variety of traditions, beliefs and spiritual practices largely based on teachings attributed to Gautama Buddha, commonly known as the Buddha (\"the awakened one\"). According to Buddhist tradition, the Buddha lived and taught in the eastern part of the Indian subcontinent, present-day Nepal sometime between the 6th and 4th centuries BCE.[note 1] He is recognized by Buddhists as an awakened or enlightened teacher who shared his insights to help sentient beings end their suffering through the elimination of ignorance and craving. Buddhists believe that this is accomplished through the direct understanding and perception of dependent origination and the Four Noble Truths. \n",
      " <|USER|> When was Buddha alive? \n",
      " <|ASSISTANT|> Between the 6th and 4th centuries BCE </s>\n",
      "<|CONTEXT|> \n",
      " A storm is an episode of severe weather caused by a major disturbance in the atmosphere. Storms can vary a lot in the time they last and in how severe they are. A storm may last for less than an hour or for more than a week. It may affect just a few square kilometers or thousands. Some storms are harmless and some are disastrous. The size and strength of a storm depends on the amount of energy in the atmosphere. Greater differences in temperature and air pressure produce stronger storms. Types of storms include thunderstorms, tornadoes, hurricanes, and winter storms such as blizzards. \n",
      " <|USER|> A winter storm is called what? \n",
      " <|ASSISTANT|> Blizzard </s>\n",
      "<|CONTEXT|> \n",
      " Nonrenewable resources include fossil fuels and nuclear power. \n",
      " <|USER|> Fossil fuels and nuclear power are what type of resource? \n",
      " <|ASSISTANT|> Nonrenewable </s>\n",
      "<|CONTEXT|> \n",
      " Despite being an original story, Spectre draws on Ian Fleming's source material, most notably in the character of Franz Oberhauser, played by Christoph Waltz. Oberhauser shares his name with Hannes Oberhauser, a background character in the short story \"Octopussy\" from the Octopussy and The Living Daylights collection, and who is named in the film as having been a temporary legal guardian of a young Bond in 1983. Similarly, Charmian Bond is shown to have been his full-time guardian, observing the back story established by Fleming. With the acquisition of the rights to Spectre and its associated characters, screenwriters Neal Purvis and Robert Wade revealed that the film would provide a minor retcon to the continuity of the previous films, with the Quantum organisation alluded to in Casino Royale and introduced in Quantum of Solace reimagined as a division within Spectre rather than an independent organisation. \n",
      " <|USER|> In which Bond story did the name Oberhauser first appear? \n",
      " <|ASSISTANT|> Octopussy </s>\n",
      "<|CONTEXT|> \n",
      " In Western Europe, some of the older Roman elite families died out while others became more involved with Church than secular affairs. Values attached to Latin scholarship and education mostly disappeared, and while literacy remained important, it became a practical skill rather than a sign of elite status. In the 4th century, Jerome (d. 420) dreamed that God rebuked him for spending more time reading Cicero than the Bible. By the 6th century, Gregory of Tours (d. 594) had a similar dream, but instead of being chastised for reading Cicero, he was chastised for learning shorthand. By the late 6th century, the principal means of religious instruction in the Church had become music and art rather than the book. Most intellectual efforts went towards imitating classical scholarship, but some original works were created, along with now-lost oral compositions. The writings of Sidonius Apollinaris (d. 489), Cassiodorus (d. c. 585), and Boethius (d. c. 525) were typical of the age. \n",
      " <|USER|> How were humanist able to identify the development of humanist thought? \n",
      " <|ASSISTANT|> <|ANSWER_NOT_IN_CONTEXT|> Not answerable. </s>\n",
      "<|CONTEXT|> \n",
      " In January 2009 President Barack Obama restored US funding to UNFPA, saying in a public statement that he would \"look forward to working with Congress to restore US financial support for the UN Population Fund. By resuming funding to UNFPA, the US will be joining 180 other donor nations working collaboratively to reduce poverty, improve the health of women and children, prevent HIV/AIDS and provide family planning assistance to women in 154 countries.\"  \n",
      " <|USER|> In what month did U.S. funding of UNFPA resume? \n",
      " <|ASSISTANT|> January </s>\n",
      "<|CONTEXT|> \n",
      " Modern Nationalism, as developed especially since the French Revolution, has made the distinction between \"language\" and \"dialect\" an issue of great political importance. A group speaking a separate \"language\" is often seen as having a greater claim to being a separate \"people\", and thus to be more deserving of its own independent state, while a group speaking a \"dialect\" tends to be seen not as \"a people\" in its own right, but as a sub-group, part of a bigger people, which must content itself with regional autonomy.[citation needed] The distinction between language and dialect is thus inevitably made at least as much on a political basis as on a linguistic one, and can lead to great political controversy, or even armed conflict. \n",
      " <|USER|> Along with political controversy, what can the distinction between a language and dialect sometimes lead to? \n",
      " <|ASSISTANT|> Armed conflict </s>\n",
      "<|CONTEXT|> \n",
      " Starting in the 1970s, the Bronx often symbolized violence, decay, and urban ruin. The wave of arson in the South Bronx in the 1960s and 1970s inspired the observation that \"The Bronx is burning\": in 1974 it was the title of both a New York Times editorial and a BBC documentary film. The line entered the pop-consciousness with Game Two of the 1977 World Series, when a fire broke out near Yankee Stadium as the team was playing the Los Angeles Dodgers. Numerous fires had previously broken out in the Bronx prior to this fire. As the fire was captured on live television, announcer Howard Cosell is wrongly remembered to have said something like, \"There it is, ladies and gentlemen: the Bronx is burning\". Historians of New York City frequently point to Cosell's remark as an acknowledgement of both the city and the borough's decline. A new feature-length documentary film by Edwin Pagan called Bronx Burning is in production in 2006, chronicling what led up to the numerous arson-for-insurance fraud fires of the 1970s in the borough. \n",
      " <|USER|> When was the phrase \"The Bronx is burning\" first widespread? \n",
      " <|ASSISTANT|> 1974 </s>\n",
      "<|CONTEXT|> \n",
      " Early followers of Whitehead were found primarily at the University of Chicago's Divinity School, where Henry Nelson Wieman initiated an interest in Whitehead's work that would last for about thirty years. Professors such as Wieman, Charles Hartshorne, Bernard Loomer, Bernard Meland, and Daniel Day Williams made Whitehead's philosophy arguably the most important intellectual thread running through the Divinity School. They taught generations of Whitehead scholars, the most notable of which is John B. Cobb, Jr. \n",
      " <|USER|> What expert on Whitehead delivered a lecture at the school to explain Whitehead's ideas? \n",
      " <|ASSISTANT|> <|ANSWER_NOT_IN_CONTEXT|> Not answerable. </s>\n",
      "<|CONTEXT|> \n",
      " In orthography and typography, letter case (or just case) is the distinction between the letters that are in larger upper case (also capital letters, capitals, caps, large letters, or more formally majuscule, see Terminology) and smaller lower case (also small letters, or more formally minuscule, see Terminology) in the written representation of certain languages. Here is a comparison of the upper and lower case versions of each letter included in the English alphabet (the exact representation will vary according to the font used): \n",
      " <|USER|> Letter case is used to distinction betweem lowercase and uppercase letter in which common representation of certain languages? \n",
      " <|ASSISTANT|> Written </s>\n",
      "<|CONTEXT|> \n",
      " The British, for their part, lacked both a unified command and a clear strategy for winning. With the use of the Royal Navy, the British were able to capture coastal cities, but control of the countryside eluded them. A British sortie from Canada in 1777 ended with the disastrous surrender of a British army at Saratoga. With the coming in 1777 of General von Steuben, the training and discipline along Prussian lines began, and the Continental Army began to evolve into a modern force. France and Spain then entered the war against Great Britain as Allies of the US, ending its naval advantage and escalating the conflict into a world war. The Netherlands later joined France, and the British were outnumbered on land and sea in a world war, as they had no major allies apart from Indian tribes. \n",
      " <|USER|> Who led the armies supporting British interests in central Europe? \n",
      " <|ASSISTANT|> <|ANSWER_NOT_IN_CONTEXT|> Not answerable. </s>\n",
      "<|CONTEXT|> \n",
      " Muhammad also ordered another siege on the Banu Qurayza during the Invasion of Banu Qurayza, because according to Muslim tradition he had been ordered to do so by the angel Gabriel. Al-Waqidi claims Muhammad had a treaty with the tribe which was torn apart. Stillman and Watt deny the authenticity of al-Waqidi. Al-Waqidi has been frequently criticized by Muslim writers, who claim that he is unreliable. 600-900 members of the Banu Qurayza were beheaded after they surrendered (according to Tabari and Ibn Hisham). Another source says all Males and 1 woman beheaded (according to Sunni Hadith). Two Muslims were killed \n",
      " <|USER|> How many members of the Banu Qurayza were beheaded after surrendering to Muhammad and his followers according to Tabari and Ibn Hisham? \n",
      " <|ASSISTANT|> 600-900 </s>\n",
      "<|CONTEXT|> \n",
      " In September 1216 John began a fresh, vigorous attack. He marched from the Cotswolds, feigned an offensive to relieve the besieged Windsor Castle, and attacked eastwards around London to Cambridge to separate the rebel-held areas of Lincolnshire and East Anglia. From there he travelled north to relieve the rebel siege at Lincoln and back east to King's Lynn, probably to order further supplies from the continent.[nb 17] In King's Lynn, John contracted dysentery, which would ultimately prove fatal. Meanwhile, Alexander II invaded northern England again, taking Carlisle in August and then marching south to give homage to Prince Louis for his English possessions; John narrowly missed intercepting Alexander along the way. Tensions between Louis and the English barons began to increase, prompting a wave of desertions, including William Marshal's son William and William Longespée, who both returned to John's faction. \n",
      " <|USER|> Who invaded northern England? \n",
      " <|ASSISTANT|> Alexander II </s>\n",
      "<|CONTEXT|> \n",
      " Many energy markets, institutions, and policies have been developed to support the production and use of fossil fuels. Newer and cleaner technologies may offer social and environmental benefits, but utility operators often reject renewable resources because they are trained to think only in terms of big, conventional power plants. Consumers often ignore renewable power systems because they are not given accurate price signals about electricity consumption. Intentional market distortions (such as subsidies), and unintentional market distortions (such as split incentives) may work against renewables. Benjamin K. Sovacool has argued that \"some of the most surreptitious, yet powerful, impediments facing renewable energy and energy efficiency in the United States are more about culture and institutions than engineering and science\". \n",
      " <|USER|> Why do consumers often ignore renewable power systems? \n",
      " <|ASSISTANT|> Because they are not given accurate price signals about electricity consumption </s>\n",
      "<|CONTEXT|> \n",
      " While most Hokkien morphemes have standard designated characters, they are not always etymological or phono-semantic. Similar-sounding, similar-meaning or rare characters are commonly borrowed or substituted to represent a particular morpheme. Examples include \"beautiful\" (美 bí is the literary form), whose vernacular morpheme suí is represented by characters like 媠 (an obsolete character), 婎 (a vernacular reading of this character) and even 水 (transliteration of the sound suí), or \"tall\" (高 ko is the literary form), whose morpheme kôan is 懸. Common grammatical particles are not exempt; the negation particle m̄ (not) is variously represented by 毋, 呣 or 唔, among others. In other cases, characters are invented to represent a particular morpheme (a common example is the character 𪜶 in, which represents the personal pronoun \"they\"). In addition, some characters have multiple and unrelated pronunciations, adapted to represent Hokkien words. For example, the Hokkien word bah (\"meat\") has been reduced to the character 肉, which has etymologically unrelated colloquial and literary readings (he̍k and jio̍k, respectively). Another case is the word 'to eat,' chia̍h, which is often transcribed in Taiwanese newspapers and media as 呷 (a Mandarin transliteration, xiā, to approximate the Hokkien term), even though its recommended character in dictionaries is 食. \n",
      " <|USER|> Most Hokkein morphemes have what type of characters? \n",
      " <|ASSISTANT|> Standard designated </s>\n",
      "<|CONTEXT|> \n",
      " The University of Houston System's annual impact on the Houston area's economy equates to that of a major corporation: $1.1 billion in new funds attracted annually to the Houston area, $3.13 billion in total economic benefit and 24,000 local jobs generated. This is in addition to the 12,500 new graduates the U.H. System produces every year who enter the workforce in Houston and throughout the state of Texas. These degree-holders tend to stay in Houston. After five years, 80.5% of graduates are still living and working in the region. \n",
      " <|USER|> Even after five years, how many graduates remain in Houston? \n",
      " <|ASSISTANT|> 80.5% </s>\n",
      "<|CONTEXT|> \n",
      " Prior to Planck's work, it had been assumed that the energy of a body could take on any value whatsoever – that it was a continuous variable. The Rayleigh–Jeans law makes close predictions for a narrow range of values at one limit of temperatures, but the results diverge more and more strongly as temperatures increase. To make Planck's law, which correctly predicts blackbody emissions, it was necessary to multiply the classical expression by a complex factor that involves h in both the numerator and the denominator. The influence of h in this complex factor would not disappear if it were set to zero or to any other value. Making an equation out of Planck's law that would reproduce the Rayleigh–Jeans law could not be done by changing the values of h, of the Boltzmann constant, or of any other constant or variable in the equation. In this case the picture given by classical physics is not duplicated by a range of results in the quantum picture. \n",
      " <|USER|> The Planck constant initially was given what name? \n",
      " <|ASSISTANT|> <|ANSWER_NOT_IN_CONTEXT|> Not answerable. </s>\n"
     ]
    }
   ],
   "source": [
    "for i in trange(100):\n",
    "    print(random.choice(f_ds[\"train\"]))"
   ]
  },
  {
   "cell_type": "code",
   "execution_count": null,
   "id": "1652057d",
   "metadata": {},
   "outputs": [],
   "source": [
    "with open(\"./qa_basic_dataset.json\", \"w\") as f:\n",
    "    f.write(json.dumps(f_ds))"
   ]
  },
  {
   "cell_type": "code",
   "execution_count": null,
   "id": "198d1e17",
   "metadata": {},
   "outputs": [],
   "source": [
    "\"trivia_qa\""
   ]
  },
  {
   "cell_type": "code",
   "execution_count": null,
   "id": "a0f77289",
   "metadata": {},
   "outputs": [],
   "source": [
    "new_datasets = [\"trivia_qa\", \"b-mc2/wikihow_lists\", \"VMware/open-instruct-v1.1-oasst-dolly-hhrlhf\", \"theblackcat102/sharegpt-english\", \"search_qa\"]"
   ]
  },
  {
   "cell_type": "code",
   "execution_count": null,
   "id": "bf66969b",
   "metadata": {
    "scrolled": false
   },
   "outputs": [],
   "source": [
    "trivia_qa = load_dataset(\"trivia_qa\", \"rc.web\")"
   ]
  },
  {
   "cell_type": "code",
   "execution_count": null,
   "id": "b4a3ed9c",
   "metadata": {},
   "outputs": [],
   "source": [
    "search_qa = load_dataset(\"search_qa\", \"train_test_val\")"
   ]
  },
  {
   "cell_type": "code",
   "execution_count": null,
   "id": "84e9c304",
   "metadata": {},
   "outputs": [],
   "source": [
    "search_qa"
   ]
  },
  {
   "cell_type": "code",
   "execution_count": null,
   "id": "5a4ffd1e",
   "metadata": {
    "scrolled": true
   },
   "outputs": [],
   "source": [
    "for row in search_qa[\"train\"]:\n",
    "    print(json.dumps(row, indent=4))\n",
    "    break"
   ]
  },
  {
   "cell_type": "code",
   "execution_count": null,
   "id": "2c4691b7",
   "metadata": {
    "scrolled": true
   },
   "outputs": [],
   "source": [
    "for row in trivia_qa[\"train\"]:\n",
    "    print(row[\"question\"])\n",
    "    print(\"*************\")\n",
    "    print(json.dumps(row[\"search_results\"], indent=4))\n",
    "    print(\"**************\")\n",
    "    print(row[\"answer\"])\n",
    "    print(\"\\n\\n\\n\\n\")\n",
    "    break"
   ]
  },
  {
   "cell_type": "code",
   "execution_count": null,
   "id": "c3905298",
   "metadata": {},
   "outputs": [],
   "source": [
    "with open(\"./qa_basic_dataset.json\", \"r\") as f:\n",
    "    ds = json.loads(f.read())"
   ]
  },
  {
   "cell_type": "code",
   "execution_count": null,
   "id": "ca4d7301",
   "metadata": {},
   "outputs": [],
   "source": [
    "ds.keys()"
   ]
  },
  {
   "cell_type": "code",
   "execution_count": null,
   "id": "78ad6698",
   "metadata": {},
   "outputs": [],
   "source": []
  }
 ],
 "metadata": {
  "kernelspec": {
   "display_name": "Python 3 (ipykernel)",
   "language": "python",
   "name": "python3"
  },
  "language_info": {
   "codemirror_mode": {
    "name": "ipython",
    "version": 3
   },
   "file_extension": ".py",
   "mimetype": "text/x-python",
   "name": "python",
   "nbconvert_exporter": "python",
   "pygments_lexer": "ipython3",
   "version": "3.9.16"
  }
 },
 "nbformat": 4,
 "nbformat_minor": 5
}
